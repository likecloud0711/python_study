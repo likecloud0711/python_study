{
 "cells": [
  {
   "cell_type": "markdown",
   "id": "99ffc888",
   "metadata": {},
   "source": [
    "#### 입력 \n",
    "- input()\n",
    "- input(\"메세지\")"
   ]
  },
  {
   "cell_type": "code",
   "execution_count": 1,
   "id": "0ee749bf",
   "metadata": {},
   "outputs": [
    {
     "name": "stdout",
     "output_type": "stream",
     "text": [
      "파이썬\n",
      "파이썬\n"
     ]
    }
   ],
   "source": [
    "a = input()\n",
    "print(a)"
   ]
  },
  {
   "cell_type": "code",
   "execution_count": 2,
   "id": "cd291b0d",
   "metadata": {},
   "outputs": [
    {
     "name": "stdout",
     "output_type": "stream",
     "text": [
      "문자열을 입력하세요 : python\n",
      "python\n"
     ]
    }
   ],
   "source": [
    "a = input(\"문자열을 입력하세요 : \")\n",
    "print(a)"
   ]
  },
  {
   "cell_type": "code",
   "execution_count": 3,
   "id": "7a1599c8",
   "metadata": {},
   "outputs": [
    {
     "name": "stdout",
     "output_type": "stream",
     "text": [
      "숫자를 입력하세요 : 12\n",
      "12 <class 'str'>\n"
     ]
    }
   ],
   "source": [
    "b = input(\"숫자를 입력하세요 : \")\n",
    "print(b, type(b))"
   ]
  },
  {
   "cell_type": "code",
   "execution_count": 4,
   "id": "ff64a590",
   "metadata": {},
   "outputs": [
    {
     "name": "stdout",
     "output_type": "stream",
     "text": [
      "숫자를 입력하세요 : 12\n",
      "12 <class 'int'>\n"
     ]
    }
   ],
   "source": [
    "b = int(input(\"숫자를 입력하세요 : \"))\n",
    "print(b, type(b))"
   ]
  },
  {
   "cell_type": "code",
   "execution_count": 6,
   "id": "95c2da7c",
   "metadata": {},
   "outputs": [
    {
     "name": "stdout",
     "output_type": "stream",
     "text": [
      "숫자를 입력하세요 : 1\n"
     ]
    },
    {
     "ename": "TypeError",
     "evalue": "can only concatenate str (not \"int\") to str",
     "output_type": "error",
     "traceback": [
      "\u001b[1;31m---------------------------------------------------------------------------\u001b[0m",
      "\u001b[1;31mTypeError\u001b[0m                                 Traceback (most recent call last)",
      "\u001b[1;32m~\\AppData\\Local\\Temp\\ipykernel_13564\\1466794986.py\u001b[0m in \u001b[0;36m<module>\u001b[1;34m\u001b[0m\n\u001b[0;32m      1\u001b[0m \u001b[0mb\u001b[0m \u001b[1;33m=\u001b[0m \u001b[0minput\u001b[0m\u001b[1;33m(\u001b[0m\u001b[1;34m\"숫자를 입력하세요 : \"\u001b[0m\u001b[1;33m)\u001b[0m\u001b[1;33m\u001b[0m\u001b[1;33m\u001b[0m\u001b[0m\n\u001b[1;32m----> 2\u001b[1;33m \u001b[0mprint\u001b[0m\u001b[1;33m(\u001b[0m\u001b[0mb\u001b[0m \u001b[1;33m+\u001b[0m \u001b[1;36m100\u001b[0m\u001b[1;33m)\u001b[0m\u001b[1;33m\u001b[0m\u001b[1;33m\u001b[0m\u001b[0m\n\u001b[0m",
      "\u001b[1;31mTypeError\u001b[0m: can only concatenate str (not \"int\") to str"
     ]
    }
   ],
   "source": [
    "b = input(\"숫자를 입력하세요 : \")\n",
    "print(b + 100) # str + int => error"
   ]
  },
  {
   "cell_type": "code",
   "execution_count": 7,
   "id": "528f5cb9",
   "metadata": {},
   "outputs": [
    {
     "name": "stdout",
     "output_type": "stream",
     "text": [
      "숫자를 입력하세요 : 4\n",
      "44\n"
     ]
    }
   ],
   "source": [
    "b = input(\"숫자를 입력하세요 : \")\n",
    "print(b * 2) # str * int => 문자열 반복"
   ]
  },
  {
   "cell_type": "code",
   "execution_count": 8,
   "id": "a26c8a57",
   "metadata": {},
   "outputs": [
    {
     "name": "stdout",
     "output_type": "stream",
     "text": [
      "숫자 두개 입력하세요 : 12 36\n",
      "48\n"
     ]
    }
   ],
   "source": [
    "# 한번에 2개의 값을 입력받기\n",
    "a, b = input(\"숫자 두개 입력하세요 : \").split()\n",
    "c = int(a)+int(b)\n",
    "print(c)"
   ]
  },
  {
   "cell_type": "markdown",
   "id": "8f91fc63",
   "metadata": {},
   "source": [
    "#### 출력 print()\n",
    "   - print(1,2,3)\n",
    "   - print(1,2,3, sep=\",\") : 출력 데이터 간의 구분자(기본값 : 공백)\n",
    "   - print(1,2,3, end=\" \") : 출력 후 나올 문자(기본값: 줄바꿈)\n",
    "   - print(\"%d + %d = %d\" %(1,2,3))\n",
    "   - print(\"{} + {} = {}\".format(1,2,3))"
   ]
  },
  {
   "cell_type": "code",
   "execution_count": 9,
   "id": "2b3ecfea",
   "metadata": {},
   "outputs": [
    {
     "name": "stdout",
     "output_type": "stream",
     "text": [
      "1 2 3\n",
      "1*2*3\n"
     ]
    }
   ],
   "source": [
    "print(1,2,3)\n",
    "print(1,2,3, sep=\"*\")"
   ]
  },
  {
   "cell_type": "code",
   "execution_count": 10,
   "id": "d60e308a",
   "metadata": {},
   "outputs": [
    {
     "name": "stdout",
     "output_type": "stream",
     "text": [
      "1 2 3 4 5 6 "
     ]
    }
   ],
   "source": [
    "print(1,2, end=\" \")\n",
    "print(3,4, end=\" \")\n",
    "print(5,6, end=\" \")"
   ]
  },
  {
   "cell_type": "code",
   "execution_count": 11,
   "id": "1702137d",
   "metadata": {},
   "outputs": [
    {
     "name": "stdout",
     "output_type": "stream",
     "text": [
      "7 / 2 = 3.50\n"
     ]
    }
   ],
   "source": [
    "print(\"%d / %d = %.2f\" %(7, 2, 7/2))"
   ]
  },
  {
   "cell_type": "code",
   "execution_count": 12,
   "id": "a5794e0b",
   "metadata": {},
   "outputs": [
    {
     "name": "stdout",
     "output_type": "stream",
     "text": [
      "123\n",
      "  123\n",
      "00123\n"
     ]
    }
   ],
   "source": [
    "print(\"%d\" % 123)\n",
    "print(\"%5d\" % 123)\n",
    "print(\"%05d\" % 123)"
   ]
  },
  {
   "cell_type": "code",
   "execution_count": 13,
   "id": "dcdd6d1a",
   "metadata": {},
   "outputs": [
    {
     "name": "stdout",
     "output_type": "stream",
     "text": [
      "python\n",
      "    python\n"
     ]
    }
   ],
   "source": [
    "print(\"%s\" % \"python\")\n",
    "print(\"%10s\" % \"python\")"
   ]
  },
  {
   "cell_type": "code",
   "execution_count": 14,
   "id": "5230180d",
   "metadata": {},
   "outputs": [
    {
     "name": "stdout",
     "output_type": "stream",
     "text": [
      "7 / 2 = 3\n"
     ]
    }
   ],
   "source": [
    "print(\"%d / %d = %d\" %(7, 2, 7/2))"
   ]
  },
  {
   "cell_type": "code",
   "execution_count": 16,
   "id": "2a50d3a3",
   "metadata": {},
   "outputs": [
    {
     "name": "stdout",
     "output_type": "stream",
     "text": [
      "1 + 2 = 3\n"
     ]
    }
   ],
   "source": [
    "print(\"{} + {} = {}\".format(1,2,3))"
   ]
  },
  {
   "cell_type": "code",
   "execution_count": 18,
   "id": "b532b89e",
   "metadata": {},
   "outputs": [
    {
     "name": "stdout",
     "output_type": "stream",
     "text": [
      "200 + 100 = 300\n"
     ]
    }
   ],
   "source": [
    "print(\"{1:} + {0:} = {2:,}\".format(100, 200, 300))"
   ]
  },
  {
   "cell_type": "code",
   "execution_count": 20,
   "id": "1665d05e",
   "metadata": {},
   "outputs": [
    {
     "name": "stdout",
     "output_type": "stream",
     "text": [
      "200 +   100 = 30,000,000\n"
     ]
    }
   ],
   "source": [
    "print(\"{1:d} + {0:5d} = {2:,}\".format(100, 200, 30000000))"
   ]
  },
  {
   "cell_type": "code",
   "execution_count": 21,
   "id": "01658aad",
   "metadata": {},
   "outputs": [
    {
     "name": "stdout",
     "output_type": "stream",
     "text": [
      "\n",
      "줄 바꿈\n",
      "연습 \n",
      "\t탭 키\t연습 \n",
      "글자가 \"강조\"되는 효과1\n"
     ]
    }
   ],
   "source": [
    "print(\"\\n줄 바꿈\\n연습 \")\n",
    "print(\"\\t탭 키\\t연습 \")\n",
    "print(\"글자가 \\\"강조\\\"되는 효과1\")"
   ]
  }
 ],
 "metadata": {
  "kernelspec": {
   "display_name": "Python 3 (ipykernel)",
   "language": "python",
   "name": "python3"
  },
  "language_info": {
   "codemirror_mode": {
    "name": "ipython",
    "version": 3
   },
   "file_extension": ".py",
   "mimetype": "text/x-python",
   "name": "python",
   "nbconvert_exporter": "python",
   "pygments_lexer": "ipython3",
   "version": "3.9.13"
  }
 },
 "nbformat": 4,
 "nbformat_minor": 5
}
