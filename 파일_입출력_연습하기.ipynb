{
 "cells": [
  {
   "cell_type": "code",
   "execution_count": 1,
   "id": "8c628bd4",
   "metadata": {},
   "outputs": [
    {
     "data": {
      "text/plain": [
       "'D:\\\\python\\\\day1101\\\\text_file'"
      ]
     },
     "execution_count": 1,
     "metadata": {},
     "output_type": "execute_result"
    }
   ],
   "source": [
    "import os\n",
    "os.getcwd() #현재경로 알아보기\n",
    "os.chdir(\"D:\\\\su\\\\test\") #경로변경1\n",
    "os.chdir(r\"D:\\su\\test\") #경로변경2"
   ]
  },
  {
   "cell_type": "markdown",
   "id": "7893b603",
   "metadata": {},
   "source": [
    "#파일열기\n",
    "\n",
    "open('a.txt','w'),write('abc') #a.txt파일에 abc라는 문자열을 쓴다."
   ]
  },
  {
   "cell_type": "markdown",
   "id": "c5593b34",
   "metadata": {},
   "source": [
    "#파일닫기\n",
    "\n",
    "f = open('a.txt','w')\n",
    "\n",
    "f.close()"
   ]
  },
  {
   "cell_type": "markdown",
   "id": "1dbf5a6a",
   "metadata": {},
   "source": [
    "파일 쓰기 모드 : w\n",
    "\n",
    "파일 읽기 모드 : r"
   ]
  },
  {
   "cell_type": "code",
   "execution_count": 6,
   "id": "b09c0575",
   "metadata": {},
   "outputs": [],
   "source": [
    "with open('test.txt','w') as f:\n",
    "    f.write('나는 오늘 학교에 갔습니다.')"
   ]
  },
  {
   "cell_type": "code",
   "execution_count": 5,
   "id": "b9ec5442",
   "metadata": {},
   "outputs": [
    {
     "ename": "UnsupportedOperation",
     "evalue": "not readable",
     "output_type": "error",
     "traceback": [
      "\u001b[1;31m---------------------------------------------------------------------------\u001b[0m",
      "\u001b[1;31mUnsupportedOperation\u001b[0m                      Traceback (most recent call last)",
      "\u001b[1;32m~\\AppData\\Local\\Temp\\ipykernel_26864\\12515000.py\u001b[0m in \u001b[0;36m<module>\u001b[1;34m\u001b[0m\n\u001b[0;32m      1\u001b[0m \u001b[1;32mwith\u001b[0m \u001b[0mopen\u001b[0m\u001b[1;33m(\u001b[0m\u001b[1;34m'test.txt'\u001b[0m\u001b[1;33m,\u001b[0m\u001b[1;34m'w'\u001b[0m\u001b[1;33m)\u001b[0m \u001b[1;32mas\u001b[0m \u001b[0mf\u001b[0m\u001b[1;33m:\u001b[0m\u001b[1;33m\u001b[0m\u001b[1;33m\u001b[0m\u001b[0m\n\u001b[1;32m----> 2\u001b[1;33m     \u001b[0mprint\u001b[0m\u001b[1;33m(\u001b[0m\u001b[0mf\u001b[0m\u001b[1;33m.\u001b[0m\u001b[0mread\u001b[0m\u001b[1;33m(\u001b[0m\u001b[1;33m)\u001b[0m\u001b[1;33m)\u001b[0m\u001b[1;33m\u001b[0m\u001b[1;33m\u001b[0m\u001b[0m\n\u001b[0m",
      "\u001b[1;31mUnsupportedOperation\u001b[0m: not readable"
     ]
    }
   ],
   "source": [
    "with open('test.txt','w') as f:# EUC-KR\n",
    "    print(f.read())"
   ]
  },
  {
   "cell_type": "code",
   "execution_count": 8,
   "id": "c1ac4759",
   "metadata": {},
   "outputs": [
    {
     "name": "stdout",
     "output_type": "stream",
     "text": [
      "농업생산성의 제고와 농지의 합리적인 이용을 위하거나 불가피한 사정으로 발생하는 농지의 임대차와 위탁경영은 법률이 정하는 바에 의하여 인정된다. 대법원장의 임기는 6년으로 하며, 중임할 수 없다. 모든 국민은 법률이 정하는 바에 의하여 납세의 의무를 진다. 모든 국민은 법 앞에 평등하다. 누구든지 성별·종교 또는 사회적 신분에 의하여 정치적·경제적·사회적·문화적 생활의 모든 영역에 있어서 차별을 받지 아니한다. 위원은 정당에 가입하거나 정치에 관여할 수 없다. 국가는 국민 모두의 생산 및 생활의 기반이 되는 국토의 효율적이고 균형있는 이용·개발과 보전을 위하여 법률이 정하는 바에 의하여 그에 관한 필요한 제한과 의무를 과할 수 있다.\n",
      "\n"
     ]
    }
   ],
   "source": [
    "with open('korean.txt','r', encoding='utf-8') as f: # UTF-8\n",
    "    print(f.readline())"
   ]
  },
  {
   "cell_type": "code",
   "execution_count": 9,
   "id": "ca9cccac",
   "metadata": {},
   "outputs": [
    {
     "name": "stdout",
     "output_type": "stream",
     "text": [
      "농업생산성의 제고와\n"
     ]
    }
   ],
   "source": [
    "import codecs\n",
    "with codecs.open('korean.txt','r','utf-8') as f:\n",
    "    print(f.read()[:10])"
   ]
  },
  {
   "cell_type": "code",
   "execution_count": null,
   "id": "1be88986",
   "metadata": {},
   "outputs": [],
   "source": []
  }
 ],
 "metadata": {
  "kernelspec": {
   "display_name": "Python 3 (ipykernel)",
   "language": "python",
   "name": "python3"
  },
  "language_info": {
   "codemirror_mode": {
    "name": "ipython",
    "version": 3
   },
   "file_extension": ".py",
   "mimetype": "text/x-python",
   "name": "python",
   "nbconvert_exporter": "python",
   "pygments_lexer": "ipython3",
   "version": "3.9.13"
  }
 },
 "nbformat": 4,
 "nbformat_minor": 5
}
