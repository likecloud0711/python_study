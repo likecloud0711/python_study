{
 "cells": [
  {
   "cell_type": "code",
   "execution_count": 2,
   "metadata": {
    "scrolled": true
   },
   "outputs": [
    {
     "name": "stdout",
     "output_type": "stream",
     "text": [
      "CoffeeBean crawling >>>>>>>>>>>>>>>>>>>>>>>>>>>>>\n"
     ]
    },
    {
     "name": "stderr",
     "output_type": "stream",
     "text": [
      "C:\\Users\\5i pro\\AppData\\Local\\Temp\\ipykernel_31820\\507045662.py:14: DeprecationWarning: executable_path has been deprecated, please pass in a Service object\n",
      "  wd = webdriver.Chrome('chromedriver.exe')\n"
     ]
    },
    {
     "name": "stdout",
     "output_type": "stream",
     "text": [
      "학동역 DT점\n",
      "차병원점\n",
      "강남대로점\n",
      "강남에스점\n",
      "청담에스점\n",
      "신사점\n",
      "압구정역점\n",
      "역삼점\n",
      "양재스포타임점\n",
      "청담성당점\n",
      "영동점\n",
      "도곡점\n",
      "영동고앞점\n",
      "압구정시티점\n",
      "압구정로데오점\n",
      "서초우성점\n",
      "논현팍스타워점\n",
      "삼성오크우드점\n",
      "트레이드타워점\n",
      "삼성봉은사거리점\n",
      "반포엘루체점\n",
      "잠실신천점\n",
      "서초지파이브점\n",
      "논현동수면센터점\n",
      "삼성전자강남사옥점\n",
      "삼성생명강남사옥점\n",
      "방배카페골목점\n",
      "역삼포스틸타워뒷점\n",
      "테헤란로하이닉스뒷점\n",
      "삼성봉은사로점\n",
      "방이점\n",
      ">>>\n"
     ]
    }
   ],
   "source": [
    "#!/usr/bin/env python\n",
    "# coding: utf-8\n",
    "\n",
    "# In[3]:\n",
    "\n",
    "\n",
    "from selenium import webdriver\n",
    "import time\n",
    "import pandas as pd\n",
    "from bs4 import BeautifulSoup\n",
    "\n",
    "def CoffeeBean_store(result):\n",
    "    CoffeeBean_URL = \"https://www.coffeebeankorea.com/store/store.asp\"\n",
    "    wd = webdriver.Chrome('chromedriver.exe')\n",
    "    \n",
    "    for i in range(1, 51):\n",
    "        wd.get(CoffeeBean_URL)\n",
    "        time.sleep(1) # 웹페이지 연결할 동안 1초 대기\n",
    "        \n",
    "        try:\n",
    "            wd.execute_script(\"storePop2(%d)\" % i)\n",
    "            time.sleep(1)\n",
    "            \n",
    "            html = wd.page_source\n",
    "            \n",
    "            soupCB = BeautifulSoup(html, 'html.parser')\n",
    "            store_name_h2 = soupCB.select(\"div.store_txt > h2\")\n",
    "            store_name = store_name_h2[0].string\n",
    "            print(store_name)\n",
    "            \n",
    "            store_info = soupCB.select(\"div.store_txt > table > tbody > tr > td\")\n",
    "            store_address_list = list(store_info[2])\n",
    "            store_address = store_address_list[0]\n",
    "            store_phone = store_info[3].text\n",
    "            \n",
    "            result.append([store_name, store_address,store_phone])\n",
    "        except:\n",
    "            continue\n",
    "    return\n",
    "\n",
    "def main():\n",
    "    result = []\n",
    "    print('CoffeeBean crawling >>>>>>>>>>>>>>>>>>>>>>>>>>>>>')\n",
    "    \n",
    "    CoffeeBean_store(result)\n",
    "    print(\">>>\")\n",
    "    \n",
    "    cb_df = pd.DataFrame(result, columns=('store', 'address', 'phone'))\n",
    "    cb_df.to_csv(\"CoffeeBean_store.csv\", encoding='cp949', mode='w', index=True)\n",
    "    \n",
    "if __name__ == '__main__':\n",
    "    main()\n",
    "\n"
   ]
  }
 ],
 "metadata": {
  "anaconda-cloud": {},
  "kernelspec": {
   "display_name": "Python 3 (ipykernel)",
   "language": "python",
   "name": "python3"
  },
  "language_info": {
   "codemirror_mode": {
    "name": "ipython",
    "version": 3
   },
   "file_extension": ".py",
   "mimetype": "text/x-python",
   "name": "python",
   "nbconvert_exporter": "python",
   "pygments_lexer": "ipython3",
   "version": "3.9.13"
  }
 },
 "nbformat": 4,
 "nbformat_minor": 4
}
