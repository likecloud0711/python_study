{
 "cells": [
  {
   "cell_type": "code",
   "execution_count": 1,
   "id": "07ffea2e",
   "metadata": {},
   "outputs": [
    {
     "data": {
      "text/plain": [
       "'1.4.4'"
      ]
     },
     "execution_count": 1,
     "metadata": {},
     "output_type": "execute_result"
    }
   ],
   "source": [
    "import pandas as pd\n",
    "pd.__version__"
   ]
  },
  {
   "cell_type": "code",
   "execution_count": 2,
   "id": "92b880aa",
   "metadata": {},
   "outputs": [],
   "source": [
    "import os\n",
    "os.environ[\"PYTHONIOENCODING\"] = \"utf-8\"\n",
    "import warnings\n",
    "warnings.filterwarnings(action='ignore')"
   ]
  },
  {
   "cell_type": "code",
   "execution_count": 3,
   "id": "c7aef1fc",
   "metadata": {},
   "outputs": [
    {
     "data": {
      "text/html": [
       "<div>\n",
       "<style scoped>\n",
       "    .dataframe tbody tr th:only-of-type {\n",
       "        vertical-align: middle;\n",
       "    }\n",
       "\n",
       "    .dataframe tbody tr th {\n",
       "        vertical-align: top;\n",
       "    }\n",
       "\n",
       "    .dataframe thead th {\n",
       "        text-align: right;\n",
       "    }\n",
       "</style>\n",
       "<table border=\"1\" class=\"dataframe\">\n",
       "  <thead>\n",
       "    <tr style=\"text-align: right;\">\n",
       "      <th></th>\n",
       "      <th>id</th>\n",
       "      <th>document</th>\n",
       "      <th>label</th>\n",
       "    </tr>\n",
       "  </thead>\n",
       "  <tbody>\n",
       "    <tr>\n",
       "      <th>0</th>\n",
       "      <td>9976970</td>\n",
       "      <td>아 더빙.. 진짜 짜증나네요 목소리</td>\n",
       "      <td>0</td>\n",
       "    </tr>\n",
       "    <tr>\n",
       "      <th>1</th>\n",
       "      <td>3819312</td>\n",
       "      <td>흠...포스터보고 초딩영화줄....오버연기조차 가볍지 않구나</td>\n",
       "      <td>1</td>\n",
       "    </tr>\n",
       "    <tr>\n",
       "      <th>2</th>\n",
       "      <td>10265843</td>\n",
       "      <td>너무재밓었다그래서보는것을추천한다</td>\n",
       "      <td>0</td>\n",
       "    </tr>\n",
       "    <tr>\n",
       "      <th>3</th>\n",
       "      <td>9045019</td>\n",
       "      <td>교도소 이야기구먼 ..솔직히 재미는 없다..평점 조정</td>\n",
       "      <td>0</td>\n",
       "    </tr>\n",
       "    <tr>\n",
       "      <th>4</th>\n",
       "      <td>6483659</td>\n",
       "      <td>사이몬페그의 익살스런 연기가 돋보였던 영화!스파이더맨에서 늙어보이기만 했던 커스틴 ...</td>\n",
       "      <td>1</td>\n",
       "    </tr>\n",
       "  </tbody>\n",
       "</table>\n",
       "</div>"
      ],
      "text/plain": [
       "         id                                           document  label\n",
       "0   9976970                                아 더빙.. 진짜 짜증나네요 목소리      0\n",
       "1   3819312                  흠...포스터보고 초딩영화줄....오버연기조차 가볍지 않구나      1\n",
       "2  10265843                                  너무재밓었다그래서보는것을추천한다      0\n",
       "3   9045019                      교도소 이야기구먼 ..솔직히 재미는 없다..평점 조정      0\n",
       "4   6483659  사이몬페그의 익살스런 연기가 돋보였던 영화!스파이더맨에서 늙어보이기만 했던 커스틴 ...      1"
      ]
     },
     "execution_count": 3,
     "metadata": {},
     "output_type": "execute_result"
    }
   ],
   "source": [
    "nsmc_train_df = pd.read_csv('./data/ratings_train.txt', encoding='utf8', sep='\\t', engine='python')\n",
    "nsmc_train_df.head()"
   ]
  },
  {
   "cell_type": "code",
   "execution_count": 4,
   "id": "ec2ef872",
   "metadata": {},
   "outputs": [
    {
     "name": "stdout",
     "output_type": "stream",
     "text": [
      "<class 'pandas.core.frame.DataFrame'>\n",
      "RangeIndex: 150000 entries, 0 to 149999\n",
      "Data columns (total 3 columns):\n",
      " #   Column    Non-Null Count   Dtype \n",
      "---  ------    --------------   ----- \n",
      " 0   id        150000 non-null  int64 \n",
      " 1   document  149995 non-null  object\n",
      " 2   label     150000 non-null  int64 \n",
      "dtypes: int64(2), object(1)\n",
      "memory usage: 3.4+ MB\n"
     ]
    }
   ],
   "source": [
    "nsmc_train_df.info()"
   ]
  },
  {
   "cell_type": "code",
   "execution_count": 5,
   "id": "a0d05dd9",
   "metadata": {},
   "outputs": [],
   "source": [
    "nsmc_train_df = nsmc_train_df[nsmc_train_df['document'].notnull()]"
   ]
  },
  {
   "cell_type": "code",
   "execution_count": 6,
   "id": "5166142c",
   "metadata": {},
   "outputs": [
    {
     "name": "stdout",
     "output_type": "stream",
     "text": [
      "<class 'pandas.core.frame.DataFrame'>\n",
      "Int64Index: 149995 entries, 0 to 149999\n",
      "Data columns (total 3 columns):\n",
      " #   Column    Non-Null Count   Dtype \n",
      "---  ------    --------------   ----- \n",
      " 0   id        149995 non-null  int64 \n",
      " 1   document  149995 non-null  object\n",
      " 2   label     149995 non-null  int64 \n",
      "dtypes: int64(2), object(1)\n",
      "memory usage: 4.6+ MB\n"
     ]
    }
   ],
   "source": [
    "nsmc_train_df.info()"
   ]
  },
  {
   "cell_type": "code",
   "execution_count": 7,
   "id": "eb07a8a4",
   "metadata": {},
   "outputs": [
    {
     "data": {
      "text/plain": [
       "0    75170\n",
       "1    74825\n",
       "Name: label, dtype: int64"
      ]
     },
     "execution_count": 7,
     "metadata": {},
     "output_type": "execute_result"
    }
   ],
   "source": [
    "nsmc_train_df['label'].value_counts()"
   ]
  },
  {
   "cell_type": "code",
   "execution_count": 8,
   "id": "d11ba37c",
   "metadata": {},
   "outputs": [],
   "source": [
    "import re"
   ]
  },
  {
   "cell_type": "code",
   "execution_count": 9,
   "id": "350b83b2",
   "metadata": {},
   "outputs": [],
   "source": [
    "nsmc_train_df['document'] = nsmc_train_df['document'].apply(lambda x : re.sub(r\"[^ ㄱ-ㅣ가-힣]+\",\" \", x))"
   ]
  },
  {
   "cell_type": "code",
   "execution_count": 10,
   "id": "fd6b9a96",
   "metadata": {},
   "outputs": [],
   "source": [
    "nsmc_test_df = pd.read_csv('./data/ratings_test.txt', encoding='utf8', sep='\\t', engine='python')\n",
    "nsmc_test_df = nsmc_test_df[nsmc_test_df['document'].notnull()]\n",
    "nsmc_test_df['document'] = nsmc_test_df['document'].apply(lambda x : re.sub(r'[^ ㄱ-ㅣ가-힣]+', \"\", x))"
   ]
  },
  {
   "cell_type": "code",
   "execution_count": 11,
   "id": "c769007f",
   "metadata": {},
   "outputs": [],
   "source": [
    "from konlpy.tag import Okt\n",
    "\n",
    "okt = Okt()"
   ]
  },
  {
   "cell_type": "code",
   "execution_count": 12,
   "id": "82b6d4ed",
   "metadata": {},
   "outputs": [],
   "source": [
    "def okt_tokenizer(text):\n",
    "    tokens = okt.morphs(text)\n",
    "    return tokens\n"
   ]
  },
  {
   "cell_type": "code",
   "execution_count": 13,
   "id": "b629269a",
   "metadata": {},
   "outputs": [],
   "source": [
    "from sklearn.feature_extraction.text import TfidfVectorizer\n",
    "\n",
    "tfidf = TfidfVectorizer(tokenizer = okt_tokenizer, ngram_range=(1,2), min_df=3, max_df=0.9)\n",
    "tfidf.fit(nsmc_train_df['document'])\n",
    "nsmc_train_tfidf = tfidf.transform(nsmc_train_df['document'])"
   ]
  },
  {
   "cell_type": "code",
   "execution_count": null,
   "id": "13b60073",
   "metadata": {},
   "outputs": [],
   "source": [
    "from sklearn.linear_model import LogisticRegression"
   ]
  },
  {
   "cell_type": "code",
   "execution_count": null,
   "id": "51e6c482",
   "metadata": {},
   "outputs": [],
   "source": [
    "SA_lr = LogisticRegression(random_state = 0)\n",
    "SA_lr.fit(nsmc_train_tfidf, nsmc_train_df['label'])"
   ]
  },
  {
   "cell_type": "code",
   "execution_count": null,
   "id": "45f6ce5f",
   "metadata": {},
   "outputs": [],
   "source": [
    "from sklearn.model_selection import GridSearchCV\n",
    "params = {'C': [1, 3, 3.5, 4, 4.5, 5]}\n",
    "SA_lr_grid_cv = GridSearchCV(SA_lr, param_grid=params, cv=3, scoring='accuracy', verbose=1)"
   ]
  },
  {
   "cell_type": "code",
   "execution_count": null,
   "id": "9582ff4a",
   "metadata": {},
   "outputs": [],
   "source": [
    "SA_lr_grid_cv.fit(nsmc_train_tfidf, nsmc_train_df['label'])"
   ]
  },
  {
   "cell_type": "code",
   "execution_count": null,
   "id": "75e87bf5",
   "metadata": {},
   "outputs": [],
   "source": [
    "print(SA_lr_grid_cv.best_params_, round(SA_lr_grid_cv.best_score_, 4))"
   ]
  },
  {
   "cell_type": "code",
   "execution_count": null,
   "id": "fc8f9632",
   "metadata": {},
   "outputs": [],
   "source": [
    "SA_lr_best = SA_lr_grid_cv.best_estimator_"
   ]
  },
  {
   "cell_type": "code",
   "execution_count": null,
   "id": "2b9d2b21",
   "metadata": {},
   "outputs": [],
   "source": [
    "nsmc_test_tfidf = tfidf.transform(nsmc_test_df['document'])"
   ]
  },
  {
   "cell_type": "code",
   "execution_count": null,
   "id": "f1e5922a",
   "metadata": {},
   "outputs": [],
   "source": [
    "test_predict = SA_lr_best.predict(nsmc_test_tfidf)"
   ]
  },
  {
   "cell_type": "code",
   "execution_count": null,
   "id": "7d4f9ca8",
   "metadata": {},
   "outputs": [],
   "source": [
    "from sklearn.metrics import accuracy_score\n",
    "print('감성 분석 정확도 : ', \n",
    "      round(accuracy_score(nsmc_test_df['label'], test_predict), 3))"
   ]
  },
  {
   "cell_type": "code",
   "execution_count": null,
   "id": "d5e7bf22",
   "metadata": {},
   "outputs": [],
   "source": [
    "st = input('감성 분석할 문장입력 >> ')"
   ]
  },
  {
   "cell_type": "code",
   "execution_count": null,
   "id": "beccb6c8",
   "metadata": {},
   "outputs": [],
   "source": [
    "st = re.compile(r'[ㄱ-ㅣ가-힣]+').findall(st)\n",
    "print(st)\n",
    "st = [\" \".join(st)]\n",
    "print(st)\n"
   ]
  },
  {
   "cell_type": "code",
   "execution_count": null,
   "id": "1c27f563",
   "metadata": {},
   "outputs": [],
   "source": [
    "st_tfidf = tfidf.transform(st)\n",
    "st_predict = SA_lr_best.predict(st_tfidf)"
   ]
  },
  {
   "cell_type": "code",
   "execution_count": null,
   "id": "2e8042bb",
   "metadata": {},
   "outputs": [],
   "source": [
    "if st_predict == 0:\n",
    "    print(st, '==> 부정 감성')\n",
    "else:\n",
    "    print(st, '==> 긍정 감성')"
   ]
  },
  {
   "cell_type": "markdown",
   "id": "79fc2431",
   "metadata": {},
   "source": [
    "# 네이버 기사(코로나) 감성 분석하기"
   ]
  },
  {
   "cell_type": "code",
   "execution_count": null,
   "id": "04e67def",
   "metadata": {},
   "outputs": [],
   "source": [
    "import json\n",
    "\n",
    "with open('data/코로나_naver_news.json', encoding='utf8') as j_f:\n",
    "    data = json.load(j_f)"
   ]
  },
  {
   "cell_type": "code",
   "execution_count": null,
   "id": "5a776e46",
   "metadata": {},
   "outputs": [],
   "source": [
    "data_title = []\n",
    "data_description = []\n",
    "\n",
    "for item in data:\n",
    "    data_title.append(item['title'])\n",
    "    data_description.append(item['description'])   "
   ]
  },
  {
   "cell_type": "code",
   "execution_count": null,
   "id": "1aed60c2",
   "metadata": {},
   "outputs": [],
   "source": [
    "data_df = pd.DataFrame({'title':data_title, 'description':data_description})\n",
    "data_df.head()"
   ]
  },
  {
   "cell_type": "code",
   "execution_count": null,
   "id": "d6b32278",
   "metadata": {},
   "outputs": [],
   "source": [
    "data_df['title'] = data_df['title'].apply(lambda x : re.sub(r'[^ ㄱ-ㅣ 가-힣]+', \" \", x))\n",
    "data_df['description'] = data_df['description'].apply(lambda x : re.sub(r'[^ ㄱ-ㅣ 가-힣]+', \" \", x))"
   ]
  },
  {
   "cell_type": "code",
   "execution_count": null,
   "id": "3130dc38",
   "metadata": {},
   "outputs": [],
   "source": [
    "data_df.head()"
   ]
  },
  {
   "cell_type": "code",
   "execution_count": null,
   "id": "5d750be8",
   "metadata": {},
   "outputs": [],
   "source": [
    "data_title_tfidf = tfidf.transform(data_df['title'])\n",
    "\n",
    "data_title_predict = SA_lr_best.predict(data_title_tfidf)\n",
    "\n",
    "data_df['title_label'] = data_title_predict"
   ]
  },
  {
   "cell_type": "code",
   "execution_count": null,
   "id": "e6fe3fe5",
   "metadata": {},
   "outputs": [],
   "source": [
    "data_description_tfidf = tfidf.transform(data_df['description'])\n",
    "\n",
    "data_description_predict = SA_lr_best.predict(data_description_tfidf)\n",
    "\n",
    "data_df['description_label'] = data_description_predict"
   ]
  },
  {
   "cell_type": "code",
   "execution_count": null,
   "id": "9d60a7dd",
   "metadata": {},
   "outputs": [],
   "source": [
    "# csv 파일로 저장 ---------------------------------------------\n",
    "data_df.to_csv('./data/코로나new_label.csv', encoding='euc-kr')"
   ]
  },
  {
   "cell_type": "code",
   "execution_count": null,
   "id": "2bb0c566",
   "metadata": {},
   "outputs": [],
   "source": [
    "data_df.head()"
   ]
  },
  {
   "cell_type": "code",
   "execution_count": null,
   "id": "ea036b4f",
   "metadata": {},
   "outputs": [],
   "source": [
    "columns_name = ['title','title_label','description','description_label']\n",
    "NEG_data_df = pd.DataFrame(columns=columns_name)\n",
    "POS_data_df = pd.DataFrame(columns=columns_name)\n",
    "\n",
    "for i, data in data_df.iterrows(): \n",
    "    title = data[\"title\"] \n",
    "    description = data[\"description\"] \n",
    "    t_label = data[\"title_label\"] \n",
    "    d_label = data[\"description_label\"] \n",
    "    \n",
    "    if d_label == 0: # 부정 감성 샘플만 추출\n",
    "        NEG_data_df = NEG_data_df.append(pd.DataFrame([[title, t_label, description, d_label]],columns=columns_name),ignore_index=True)\n",
    "    else : # 긍정 감성 샘플만 추출\n",
    "        POS_data_df = POS_data_df.append(pd.DataFrame([[title, t_label, description, d_label]],columns=columns_name),ignore_index=True)\n",
    "\n",
    "# 파일에 저장.\n",
    "NEG_data_df.to_csv('./data/코로나_news_NES.csv', encoding='euc-kr') \n",
    "POS_data_df.to_csv('./data/코로나_news_POS.csv', encoding='euc-kr') \n"
   ]
  },
  {
   "cell_type": "code",
   "execution_count": null,
   "id": "2cfdc5d8",
   "metadata": {},
   "outputs": [],
   "source": [
    "len(NEG_data_df), len(POS_data_df)"
   ]
  },
  {
   "cell_type": "code",
   "execution_count": null,
   "id": "bf6cd2df",
   "metadata": {},
   "outputs": [],
   "source": [
    "POS_description = POS_data_df['description']\n",
    "\n",
    "POS_description_noun_tk = []\n",
    "\n",
    "for d in POS_description:\n",
    "    POS_description_noun_tk.append(okt.nouns(d)) #형태소가 명사인 것만 추출"
   ]
  },
  {
   "cell_type": "code",
   "execution_count": null,
   "id": "11c0b5f8",
   "metadata": {},
   "outputs": [],
   "source": [
    "POS_description_noun_join = []\n",
    "\n",
    "for d in POS_description_noun_tk:\n",
    "    d2 = [w for w in d if len(w) > 1] #길이가 1인 토큰은 제외\n",
    "    POS_description_noun_join.append(\" \".join(d2))"
   ]
  },
  {
   "cell_type": "code",
   "execution_count": null,
   "id": "9176a7e0",
   "metadata": {},
   "outputs": [],
   "source": [
    "POS_tfidf = TfidfVectorizer(tokenizer = okt_tokenizer, min_df=2 )\n",
    "POS_dtm = POS_tfidf.fit_transform(POS_description_noun_join)"
   ]
  },
  {
   "cell_type": "code",
   "execution_count": null,
   "id": "188a76aa",
   "metadata": {},
   "outputs": [],
   "source": [
    "POS_vocab = dict() \n",
    "\n",
    "for idx, word in enumerate(POS_tfidf.get_feature_names()):\n",
    "    POS_vocab[word] = POS_dtm.getcol(idx).sum()\n",
    "    \n",
    "POS_words = sorted(POS_vocab.items(), key=lambda x: x[1], reverse=True)"
   ]
  },
  {
   "cell_type": "code",
   "execution_count": null,
   "id": "b111b9f9",
   "metadata": {},
   "outputs": [],
   "source": [
    "import matplotlib\n",
    "import matplotlib.pyplot as plt\n",
    "import matplotlib.font_manager as fm\n",
    "\n",
    "fm.get_fontconfig_fonts()\n",
    "font_location = 'C:/Windows/Fonts/malgun.ttf'\n",
    "font_name = fm.FontProperties(fname=font_location).get_name()\n",
    "matplotlib.rc('font', family=font_name)\n",
    "\n",
    "max = 15  #바 차트에 나타낼 단어의 수 "
   ]
  },
  {
   "cell_type": "code",
   "execution_count": null,
   "id": "d7a2e732",
   "metadata": {},
   "outputs": [],
   "source": [
    "plt.bar(range(max), [i[1] for i in POS_words[:max]], color=\"blue\")\n",
    "plt.title(\"긍정 뉴스의 단어 상위 %d개\" %max, fontsize=15)\n",
    "plt.xlabel(\"단어\", fontsize=12)\n",
    "plt.ylabel(\"TF-IDF의 합\", fontsize=12)\n",
    "plt.xticks(range(max), [i[0] for i in POS_words[:max]], rotation=70)\n",
    "\n",
    "plt.show()"
   ]
  },
  {
   "cell_type": "code",
   "execution_count": null,
   "id": "701d0dde",
   "metadata": {},
   "outputs": [],
   "source": [
    "NEG_description = NEG_data_df['description']\n",
    "\n",
    "NEG_description_noun_tk = []\n",
    "NEG_description_noun_join = []\n",
    "\n",
    "for d in NEG_description:\n",
    "    NEG_description_noun_tk.append(okt.nouns(d)) #형태소가 명사인 것만 추출\n",
    "    \n",
    "for d in NEG_description_noun_tk:\n",
    "    d2 = [w for w in d if len(w) > 1]  #길이가 1인 토큰은 제외\n",
    "    NEG_description_noun_join.append(\" \".join(d2)) # 토큰을 연결(join)하여 리스트 구성\n",
    "\n",
    "NEG_tfidf = TfidfVectorizer(tokenizer = okt_tokenizer, min_df=2 )\n",
    "NEG_dtm = NEG_tfidf.fit_transform(NEG_description_noun_join)\n",
    "NEG_vocab = dict() \n",
    "\n",
    "for idx, word in enumerate(NEG_tfidf.get_feature_names()):\n",
    "    NEG_vocab[word] = NEG_dtm.getcol(idx).sum()\n",
    "    \n",
    "NEG_words = sorted(NEG_vocab.items(), key=lambda x: x[1], reverse=True)\n",
    "plt.bar(range(max), [i[1] for i in NEG_words[:max]], color=\"red\")\n",
    "plt.title(\"부정 뉴스의 단어 상위 %d개\" %max, fontsize=15)\n",
    "plt.xlabel(\"단어\", fontsize=12)\n",
    "plt.ylabel(\"TF-IDF의 합\", fontsize=12)\n",
    "plt.xticks(range(max), [i[0] for i in NEG_words[:max]], rotation=70)\n",
    "\n",
    "plt.show()"
   ]
  },
  {
   "cell_type": "code",
   "execution_count": null,
   "id": "acc22e9b",
   "metadata": {},
   "outputs": [],
   "source": [
    "description = data_df['description']\n"
   ]
  },
  {
   "cell_type": "code",
   "execution_count": null,
   "id": "722a3720",
   "metadata": {},
   "outputs": [],
   "source": [
    "description_noun_tk = []\n",
    "for d in description:\n",
    "    description_noun_tk.append(okt.nouns(d))\n"
   ]
  },
  {
   "cell_type": "code",
   "execution_count": null,
   "id": "88332ad3",
   "metadata": {},
   "outputs": [],
   "source": [
    "description_noun_tk2 = []\n",
    "\n",
    "for d in description_noun_tk:\n",
    "    item = [i for i in d if len(i) > 1]\n",
    "    description_noun_tk2.append(item)"
   ]
  },
  {
   "cell_type": "code",
   "execution_count": null,
   "id": "1623aea8",
   "metadata": {},
   "outputs": [],
   "source": [
    "print(description_noun_tk2[:5])"
   ]
  },
  {
   "cell_type": "code",
   "execution_count": null,
   "id": "b8dca0f4",
   "metadata": {},
   "outputs": [],
   "source": [
    "get_ipython().system('pip install gensim')"
   ]
  },
  {
   "cell_type": "code",
   "execution_count": null,
   "id": "8b1be602",
   "metadata": {},
   "outputs": [],
   "source": [
    "import gensim\n",
    "import gensim.corpora as corpora"
   ]
  },
  {
   "cell_type": "code",
   "execution_count": null,
   "id": "818ab238",
   "metadata": {},
   "outputs": [],
   "source": [
    "dictionary = corpora.Dictionary(description_noun_tk2)\n",
    "print(dictionary[0])"
   ]
  },
  {
   "cell_type": "code",
   "execution_count": null,
   "id": "958dfb60",
   "metadata": {},
   "outputs": [],
   "source": [
    "corpus = [dictionary.doc2bow(word) for word in description_noun_tk2]\n",
    "print(corpus[:3])"
   ]
  },
  {
   "cell_type": "code",
   "execution_count": null,
   "id": "df16d273",
   "metadata": {},
   "outputs": [],
   "source": [
    "k = 4"
   ]
  },
  {
   "cell_type": "code",
   "execution_count": null,
   "id": "93135537",
   "metadata": {},
   "outputs": [],
   "source": [
    "lda_model = gensim.models.ldamulticore.LdaMulticore(corpus, iterations = 12, num_topics = k, id2word = dictionary, passes = 1, workers = 10)"
   ]
  },
  {
   "cell_type": "code",
   "execution_count": null,
   "id": "54c82488",
   "metadata": {},
   "outputs": [],
   "source": [
    "print(lda_model.print_topics(num_topics = k, num_words = 15))\n"
   ]
  },
  {
   "cell_type": "code",
   "execution_count": null,
   "id": "f71a319e",
   "metadata": {},
   "outputs": [],
   "source": [
    "get_ipython().system('pip install pyLDAvis ')"
   ]
  },
  {
   "cell_type": "code",
   "execution_count": null,
   "id": "51848294",
   "metadata": {},
   "outputs": [],
   "source": [
    "import pyLDAvis.gensim_models\n",
    "\n",
    "lda_vis = pyLDAvis.gensim_models.prepare(lda_model, corpus, dictionary)\n"
   ]
  },
  {
   "cell_type": "code",
   "execution_count": null,
   "id": "3bb9ed6c",
   "metadata": {},
   "outputs": [],
   "source": [
    "pyLDAvis.display(lda_vis)"
   ]
  },
  {
   "cell_type": "code",
   "execution_count": null,
   "id": "84bf4bee",
   "metadata": {},
   "outputs": [],
   "source": [
    "#pyLDAvis.save_html(lda_vis,'./data/저장할파일이름')"
   ]
  }
 ],
 "metadata": {
  "kernelspec": {
   "display_name": "Python 3 (ipykernel)",
   "language": "python",
   "name": "python3"
  },
  "language_info": {
   "codemirror_mode": {
    "name": "ipython",
    "version": 3
   },
   "file_extension": ".py",
   "mimetype": "text/x-python",
   "name": "python",
   "nbconvert_exporter": "python",
   "pygments_lexer": "ipython3",
   "version": "3.9.13"
  }
 },
 "nbformat": 4,
 "nbformat_minor": 5
}
