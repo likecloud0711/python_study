{
 "cells": [
  {
   "cell_type": "code",
   "execution_count": 1,
   "id": "af17b84e",
   "metadata": {},
   "outputs": [
    {
     "name": "stdout",
     "output_type": "stream",
     "text": [
      "[['Gu', 'Korean', 'Foreigner', 'Senior'], ['Total', 9565990.0, 229436.0, 1576971.0], ['Jongrogu', 146029.0, 9077.0, 27605.0]]\n"
     ]
    }
   ],
   "source": [
    "import usecsv\n",
    "\n",
    "total = usecsv.opencsv('popSeoul2021.csv')\n",
    "newPop = usecsv.switch(total)\n",
    "\n",
    "print(newPop[:3])"
   ]
  },
  {
   "cell_type": "code",
   "execution_count": 4,
   "id": "3ac163cb",
   "metadata": {},
   "outputs": [
    {
     "name": "stdout",
     "output_type": "stream",
     "text": [
      "Total 2.3\n",
      "Jongrogu 5.9\n",
      "Jongru 7.0\n",
      "Yongsangu 5.9\n",
      "Seongdonggu 2.2\n",
      "Kwangjingu 3.6\n",
      "Dongdaemoongu 4.0\n",
      "Jungranggu 1.2\n",
      "Seongbukgu 2.2\n",
      "Gangbukgu 1.1\n",
      "Dobonggu 0.6\n",
      "Nowonggu 0.8\n",
      "Eunpyonggu 0.8\n",
      "Seodaemungu 3.3\n",
      "Mapogu 2.6\n",
      "Yangcheongu 0.7\n",
      "Gangseogu 0.9\n",
      "Gurogu 6.0\n",
      "Guemcheongu 5.9\n",
      "Youngdeungpogu 6.2\n",
      "Dongjakgu 2.4\n",
      "Kwanakgu 2.8\n",
      "Seoucheogu 0.9\n",
      "Gangnamgu 0.9\n",
      "Songpagu 0.9\n",
      "Gangdonggu 0.8\n"
     ]
    }
   ],
   "source": [
    "for i in newPop:\n",
    "    foreign = 0\n",
    "    try:\n",
    "        foreign = round(i[2] / (i[1] + i[2]) * 100, 1)\n",
    "        print(i[0], foreign)\n",
    "    \n",
    "    except:\n",
    "        pass"
   ]
  },
  {
   "cell_type": "code",
   "execution_count": 6,
   "id": "5943d1cd",
   "metadata": {},
   "outputs": [],
   "source": [
    "new = [['구','한국인','외국인','외국인 비율(%)']]\n",
    "\n",
    "for i in newPop:\n",
    "    foreign = 0\n",
    "    try:\n",
    "        foreign = round( i[2] / (i[1] + i[2]) * 100, 1 )\n",
    "        if foreign > 3:\n",
    "            new.sort()\n",
    "            new.append([i[0], i[1], i[2], foreign])\n",
    "    except:\n",
    "        pass\n",
    "    \n",
    "usecsv.writecsv(\"newPop.csv\", new)"
   ]
  },
  {
   "cell_type": "code",
   "execution_count": null,
   "id": "c5f61a85",
   "metadata": {},
   "outputs": [],
   "source": []
  }
 ],
 "metadata": {
  "kernelspec": {
   "display_name": "Python 3 (ipykernel)",
   "language": "python",
   "name": "python3"
  },
  "language_info": {
   "codemirror_mode": {
    "name": "ipython",
    "version": 3
   },
   "file_extension": ".py",
   "mimetype": "text/x-python",
   "name": "python",
   "nbconvert_exporter": "python",
   "pygments_lexer": "ipython3",
   "version": "3.9.13"
  }
 },
 "nbformat": 4,
 "nbformat_minor": 5
}
