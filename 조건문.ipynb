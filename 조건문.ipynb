{
 "cells": [
  {
   "cell_type": "markdown",
   "id": "d20e5672",
   "metadata": {},
   "source": [
    "#### 조건문\n",
    "if 조건 : \n",
    "\n",
    "    조건이 True일때 수행문\n",
    "\n",
    "else :\n",
    "\n",
    "    조건이 False일때 수행문"
   ]
  },
  {
   "cell_type": "code",
   "execution_count": 3,
   "id": "f7a497ad",
   "metadata": {},
   "outputs": [
    {
     "name": "stdout",
     "output_type": "stream",
     "text": [
      "나이를 입력하세요.27\n",
      "no. u r not accepted\n"
     ]
    }
   ],
   "source": [
    "myage = int(input(\"나이를 입력하세요.\"))\n",
    "if myage < 20:\n",
    "    print(\"welcome to the Club\")\n",
    "else:\n",
    "    print(\"no. u r not accepted\")"
   ]
  },
  {
   "cell_type": "code",
   "execution_count": 4,
   "id": "57c2890e",
   "metadata": {},
   "outputs": [
    {
     "name": "stdout",
     "output_type": "stream",
     "text": [
      "True\n"
     ]
    }
   ],
   "source": [
    "if 1:\n",
    "    print(\"True\")\n",
    "else:\n",
    "    print(\"False\")"
   ]
  },
  {
   "cell_type": "code",
   "execution_count": 6,
   "id": "bd0b42f9",
   "metadata": {},
   "outputs": [
    {
     "name": "stdout",
     "output_type": "stream",
     "text": [
      "True\n"
     ]
    }
   ],
   "source": [
    "print((3 > 5) < 10) # 3 > 5  => False => 0"
   ]
  },
  {
   "cell_type": "code",
   "execution_count": 12,
   "id": "2889f012",
   "metadata": {},
   "outputs": [
    {
     "name": "stdout",
     "output_type": "stream",
     "text": [
      "태어난 연도를 입력하세요.\n",
      "1996\n",
      "나이 :  27\n",
      "학생이 아닙니다.\n"
     ]
    }
   ],
   "source": [
    "print(\"태어난 연도를 입력하세요.\")\n",
    "b_year = int(input())\n",
    "age = 2022 - b_year + 1\n",
    "print(\"나이 : \", age)\n",
    "stu = \"\"\n",
    "if age <= 26 and age >= 20: stu = \"대학생\"\n",
    "elif age < 20 and age >= 17: stu = \"고등학생\"\n",
    "elif age < 17 and age >= 14: stu = \"중등학생\"\n",
    "elif age < 14 and age >= 8: stu = \"초등학생\"\n",
    "else: stu = \"학생이 아닙니다.\"\n",
    "    \n",
    "print(stu)"
   ]
  },
  {
   "cell_type": "code",
   "execution_count": 11,
   "id": "f72581ff",
   "metadata": {},
   "outputs": [
    {
     "name": "stdout",
     "output_type": "stream",
     "text": [
      "2022\n"
     ]
    }
   ],
   "source": [
    "import datetime\n",
    "\n",
    "today = datetime.date.today()\n",
    "y = today.year\n",
    "print(y)"
   ]
  },
  {
   "cell_type": "code",
   "execution_count": 16,
   "id": "ab6a1cdf",
   "metadata": {},
   "outputs": [
    {
     "name": "stdout",
     "output_type": "stream",
     "text": [
      "시험점수를 입력하시오.\n",
      "39\n",
      "불합격이면서 과락입니다.\n"
     ]
    }
   ],
   "source": [
    "'''\n",
    "시험점수를 사용자에게 입력 받아\n",
    "60점 이상이면 합격\n",
    "40점 이상이면서 60점 미만이면 불합격이지만 과락은 아닙니다.\n",
    "40점 미만이면 불합격이면서 과락입니다로 출력하시오.\n",
    "'''\n",
    "print(\"시험점수를 입력하시오.\")\n",
    "score = int(input())\n",
    "if score >= 60 : \n",
    "    print(\"합격\")\n",
    "elif score >= 40 : \n",
    "    print(\"불합격이지만 과락은 아닙니다.\")\n",
    "else : \n",
    "    print(\"불합격이면서 과락입니다.\")"
   ]
  },
  {
   "cell_type": "code",
   "execution_count": 40,
   "id": "c43dccd7",
   "metadata": {},
   "outputs": [
    {
     "name": "stdout",
     "output_type": "stream",
     "text": [
      "비겼습니다. A : 2, B : 2\n"
     ]
    }
   ],
   "source": [
    "'''\n",
    "두 사람이 주사위를 던져 더 큰 수가 나오면 이기는 게임을 작성\n",
    "A가 이기거나 B가 이기거나 비기는 결과가 나오도록 프로그램을 작성하시오.\n",
    "Tip) import random #난수 발생하는 모듈\n",
    "num_a = random.randrange(1, 7) #1부터 6까지 숫자 중 하나의 값을 무작위 추출\n",
    "num_b = random.randrange(1, 7) #1부터 6까지 숫자 중 하나의 값을 무작위 추출\n",
    "'''\n",
    "\n",
    "import random\n",
    "\n",
    "num_a = random.randrange(1,7)\n",
    "num_b = random.randrange(1,7)\n",
    "\n",
    "if(num_a > num_b):\n",
    "    print(\"A가 이겼습니다. A : %d, B : %d\" %(num_a, num_b))\n",
    "elif(num_a < num_b):\n",
    "    print(\"B가 이겼습니다. A : %d, B : %d\" %(num_a, num_b))\n",
    "else :\n",
    "    print(\"비겼습니다. A : %d, B : %d\" %(num_a, num_b))"
   ]
  }
 ],
 "metadata": {
  "kernelspec": {
   "display_name": "Python 3 (ipykernel)",
   "language": "python",
   "name": "python3"
  },
  "language_info": {
   "codemirror_mode": {
    "name": "ipython",
    "version": 3
   },
   "file_extension": ".py",
   "mimetype": "text/x-python",
   "name": "python",
   "nbconvert_exporter": "python",
   "pygments_lexer": "ipython3",
   "version": "3.9.13"
  }
 },
 "nbformat": 4,
 "nbformat_minor": 5
}
