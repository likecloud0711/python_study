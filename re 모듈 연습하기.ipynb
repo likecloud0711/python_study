{
 "cells": [
  {
   "cell_type": "code",
   "execution_count": 1,
   "id": "cb282cfd",
   "metadata": {},
   "outputs": [
    {
     "data": {
      "text/plain": [
       "'life'"
      ]
     },
     "execution_count": 1,
     "metadata": {},
     "output_type": "execute_result"
    }
   ],
   "source": [
    "import re\n",
    "\n",
    "pattern = r'life'\n",
    "script = 'life'\n",
    "\n",
    "re.match(pattern, script).group()"
   ]
  },
  {
   "cell_type": "code",
   "execution_count": 2,
   "id": "d53edf97",
   "metadata": {},
   "outputs": [
    {
     "data": {
      "text/plain": [
       "'life'"
      ]
     },
     "execution_count": 2,
     "metadata": {},
     "output_type": "execute_result"
    }
   ],
   "source": [
    "re.match(pattern, 'life animal').group()"
   ]
  },
  {
   "cell_type": "code",
   "execution_count": null,
   "id": "991dda3b",
   "metadata": {},
   "outputs": [],
   "source": [
    "script = 'Life is cool'\n",
    "pattern = 'is'\n",
    "\n",
    "print(re.search(pattern, script).group())\n",
    "\n",
    "pattern = 'cool'\n",
    "print(re.search(pattern, script).group())\n",
    "\n",
    "pattern = 'life'\n",
    "print(re.search(pattern, script).group())"
   ]
  },
  {
   "cell_type": "markdown",
   "id": "8c626186",
   "metadata": {},
   "source": [
    "findall 메서드 : 패턴을 모두 찾아 리스트로 반환"
   ]
  },
  {
   "cell_type": "code",
   "execution_count": 5,
   "id": "7e0ece73",
   "metadata": {},
   "outputs": [
    {
     "data": {
      "text/plain": [
       "['91년에 태어났습니다. 97년에서는 IMF가 있었습니다. 지금은 2020년']"
      ]
     },
     "execution_count": 5,
     "metadata": {},
     "output_type": "execute_result"
    }
   ],
   "source": [
    "example = '저는 91년에 태어났습니다. 97년에서는 IMF가 있었습니다. 지금은 2020년입니다.'\n",
    "\n",
    "re.findall(r'\\d.+년', example)"
   ]
  },
  {
   "cell_type": "code",
   "execution_count": 6,
   "id": "bb75a80e",
   "metadata": {},
   "outputs": [
    {
     "name": "stdout",
     "output_type": "stream",
     "text": [
      "['221101', '201031']\n"
     ]
    }
   ],
   "source": [
    "number = \"My Number is 221101-1****** and yours is 201031-1******\"\n",
    "# 앞 6자리만 꺼내서 추출하기\n",
    "\n",
    "num = re.findall(r'\\d{6}',number)\n",
    "print(num)"
   ]
  },
  {
   "cell_type": "code",
   "execution_count": 9,
   "id": "1e2b9d67",
   "metadata": {},
   "outputs": [
    {
     "data": {
      "text/plain": [
       "['02년', '2002년', '2022년']"
      ]
     },
     "execution_count": 9,
     "metadata": {},
     "output_type": "execute_result"
    }
   ],
   "source": [
    "example = '저는 02년에 태어났습니다. 2002년에는 월드컵이 있었습니다. 지금은 2022년입니다.'\n",
    "\n",
    "\n",
    "re.findall(r'\\d+년', example)"
   ]
  },
  {
   "cell_type": "code",
   "execution_count": 10,
   "id": "ed0d9606",
   "metadata": {},
   "outputs": [
    {
     "data": {
      "text/plain": [
       "['02년', '2002년', '2022년']"
      ]
     },
     "execution_count": 10,
     "metadata": {},
     "output_type": "execute_result"
    }
   ],
   "source": [
    "re.findall(r'\\d.+?년', example)"
   ]
  },
  {
   "cell_type": "code",
   "execution_count": 11,
   "id": "9f3d8e3e",
   "metadata": {},
   "outputs": [
    {
     "data": {
      "text/plain": [
       "['02년', '2002년', '2022년']"
      ]
     },
     "execution_count": 11,
     "metadata": {},
     "output_type": "execute_result"
    }
   ],
   "source": [
    "re.findall(r'\\d+.년', example)"
   ]
  },
  {
   "cell_type": "code",
   "execution_count": 12,
   "id": "cd31a9d0",
   "metadata": {},
   "outputs": [
    {
     "data": {
      "text/plain": [
       "['I love a lovely dog, really',\n",
       " ' I am not telling a lie',\n",
       " ' What a pretty dog',\n",
       " ' I love this dog',\n",
       " '']"
      ]
     },
     "execution_count": 12,
     "metadata": {},
     "output_type": "execute_result"
    }
   ],
   "source": [
    "sentence = 'I love a lovely dog, really. I am not telling a lie. What a pretty dog! I love this dog.'\n",
    "\n",
    "re.split(r'[.?!]', sentence)"
   ]
  },
  {
   "cell_type": "code",
   "execution_count": 17,
   "id": "06ffce35",
   "metadata": {},
   "outputs": [
    {
     "name": "stdout",
     "output_type": "stream",
     "text": [
      "['a', '3']\n",
      "['b', '4']\n",
      "['c', '5']\n"
     ]
    }
   ],
   "source": [
    "data = 'a:3;b:4;c:5'\n",
    "\n",
    "for i in re.split(\";\", data):\n",
    "    print(re.split(\":\", i))"
   ]
  },
  {
   "cell_type": "markdown",
   "id": "eeb1d9f3",
   "metadata": {},
   "source": [
    "sub 메서드 : 문자열 바꾸기"
   ]
  },
  {
   "cell_type": "code",
   "execution_count": 19,
   "id": "78391456",
   "metadata": {},
   "outputs": [
    {
     "data": {
      "text/plain": [
       "'I love a lovely cat, really. I am not telling a lie. What a pretty cat! I love this cat.'"
      ]
     },
     "execution_count": 19,
     "metadata": {},
     "output_type": "execute_result"
    }
   ],
   "source": [
    "re.sub(r'dog','cat',sentence)"
   ]
  },
  {
   "cell_type": "code",
   "execution_count": 21,
   "id": "233e40ff",
   "metadata": {},
   "outputs": [
    {
     "name": "stdout",
     "output_type": "stream",
     "text": [
      "I'm home now. \n",
      "\n",
      "\n",
      "I am with my cat.\n",
      "\n",
      "\n",
      "I'm home now. I am with my cat.\n"
     ]
    }
   ],
   "source": [
    "word = \"I'm home now. \\n\\n\\nI am with my cat.\\n\\n\"\n",
    "print(word)\n",
    "word2 = re.sub(r'\\n',\"\",word)\n",
    "print(word2)"
   ]
  },
  {
   "cell_type": "code",
   "execution_count": 24,
   "id": "eb993b75",
   "metadata": {},
   "outputs": [
    {
     "data": {
      "text/plain": [
       "['lovely', 'really']"
      ]
     },
     "execution_count": 24,
     "metadata": {},
     "output_type": "execute_result"
    }
   ],
   "source": [
    "sentence = 'I love a lovely dog, really. I am not telling a lie. What a pretty dog! I love this dog.'\n",
    "\n",
    "#~ly로 끝나는 단어들을 추출해주세요\n",
    "re.findall(r'\\w+ly', sentence)"
   ]
  },
  {
   "cell_type": "code",
   "execution_count": null,
   "id": "ffa500f2",
   "metadata": {},
   "outputs": [],
   "source": []
  }
 ],
 "metadata": {
  "kernelspec": {
   "display_name": "Python 3 (ipykernel)",
   "language": "python",
   "name": "python3"
  },
  "language_info": {
   "codemirror_mode": {
    "name": "ipython",
    "version": 3
   },
   "file_extension": ".py",
   "mimetype": "text/x-python",
   "name": "python",
   "nbconvert_exporter": "python",
   "pygments_lexer": "ipython3",
   "version": "3.9.13"
  }
 },
 "nbformat": 4,
 "nbformat_minor": 5
}
