{
 "cells": [
  {
   "cell_type": "code",
   "execution_count": 2,
   "id": "18ac821c",
   "metadata": {},
   "outputs": [
    {
     "name": "stdout",
     "output_type": "stream",
     "text": [
      "15\n"
     ]
    }
   ],
   "source": [
    "a = 10\n",
    "b = 5\n",
    "print(a + b)"
   ]
  },
  {
   "cell_type": "markdown",
   "id": "ebcc67fb",
   "metadata": {},
   "source": [
    "###### 1. 변수"
   ]
  },
  {
   "cell_type": "code",
   "execution_count": 3,
   "id": "cce98df5",
   "metadata": {},
   "outputs": [
    {
     "name": "stdout",
     "output_type": "stream",
     "text": [
      "True\n",
      "True\n"
     ]
    }
   ],
   "source": [
    "a = 1 # -5 ~ 256까지는 처음 실행시부터 저장되어 있다.\n",
    "b = 1\n",
    "print(a == b) # 저장 된 값 비교\n",
    "print(a is b) # is 주소값 비교 연산자"
   ]
  },
  {
   "cell_type": "code",
   "execution_count": 4,
   "id": "70e48c72",
   "metadata": {},
   "outputs": [
    {
     "name": "stdout",
     "output_type": "stream",
     "text": [
      "True\n",
      "False\n"
     ]
    }
   ],
   "source": [
    "a = 300\n",
    "b = 300\n",
    "print(a == b)\n",
    "print(a is b) # is 주소값 비교 연산자"
   ]
  },
  {
   "cell_type": "code",
   "execution_count": 7,
   "id": "a464d65e",
   "metadata": {},
   "outputs": [
    {
     "name": "stdout",
     "output_type": "stream",
     "text": [
      "100 0.5 True hello\n",
      "<class 'int'> <class 'float'> <class 'bool'> <class 'str'>\n"
     ]
    }
   ],
   "source": [
    "a = 100\n",
    "b = 0.5\n",
    "c = True\n",
    "d = \"hello\"\n",
    "\n",
    "print(a, b, c, d)\n",
    "print( type(a), type(b), type(c), type(d))"
   ]
  },
  {
   "cell_type": "code",
   "execution_count": 1,
   "id": "83939ce8",
   "metadata": {},
   "outputs": [
    {
     "name": "stdout",
     "output_type": "stream",
     "text": [
      "7 / 2 =  3.5\n",
      "7 // 2 =  3\n",
      "7 % 2 =  1\n",
      "7 ** 2 =  49\n"
     ]
    }
   ],
   "source": [
    "print(\"7 / 2 = \", 7 / 2)\n",
    "print(\"7 // 2 = \", 7 // 2)\n",
    "print(\"7 % 2 = \", 7 % 2)\n",
    "print(\"7 ** 2 = \", 7 ** 2)"
   ]
  },
  {
   "cell_type": "markdown",
   "id": "5d0a298c",
   "metadata": {},
   "source": [
    "###### 자료형 변환\n",
    "\n",
    "- int() : 문자열 / 실수 를 int 데이터타입으로 반환\n",
    "- float() : 문자열 / 정수를 float 데이터타입으로 반환\n",
    "- str() : 다른 데이터 타입을 str 데이터타입으로 반환\n",
    "- bool() : 다른 데이터 타입을 bool 데이터타입으로 반환"
   ]
  },
  {
   "cell_type": "code",
   "execution_count": 3,
   "id": "29010fcf",
   "metadata": {},
   "outputs": [],
   "source": [
    "a = 100\n",
    "b = 879.01\n",
    "c = 'python'\n",
    "d = True"
   ]
  },
  {
   "cell_type": "code",
   "execution_count": 5,
   "id": "2ca06016",
   "metadata": {},
   "outputs": [
    {
     "name": "stdout",
     "output_type": "stream",
     "text": [
      "100.0\n",
      "879\n",
      "100 <class 'str'>\n",
      "True\n"
     ]
    }
   ],
   "source": [
    "print(float(a))\n",
    "print(int(b))\n",
    "print(str(a), type(str(a)))\n",
    "print(bool(a))"
   ]
  },
  {
   "cell_type": "code",
   "execution_count": 7,
   "id": "b025ec7b",
   "metadata": {},
   "outputs": [
    {
     "name": "stdout",
     "output_type": "stream",
     "text": [
      "False\n",
      "False\n",
      "False\n"
     ]
    }
   ],
   "source": [
    "print(bool(0))\n",
    "print(bool(''))\n",
    "print(bool(0.0))"
   ]
  },
  {
   "cell_type": "code",
   "execution_count": 9,
   "id": "103629b8",
   "metadata": {},
   "outputs": [
    {
     "name": "stdout",
     "output_type": "stream",
     "text": [
      "True\n",
      "True\n"
     ]
    }
   ],
   "source": [
    "# 자동 형 변환\n",
    "print(1 == True)\n",
    "print(0 == False)"
   ]
  },
  {
   "cell_type": "code",
   "execution_count": null,
   "id": "71424cb0",
   "metadata": {},
   "outputs": [],
   "source": []
  }
 ],
 "metadata": {
  "kernelspec": {
   "display_name": "Python 3 (ipykernel)",
   "language": "python",
   "name": "python3"
  },
  "language_info": {
   "codemirror_mode": {
    "name": "ipython",
    "version": 3
   },
   "file_extension": ".py",
   "mimetype": "text/x-python",
   "name": "python",
   "nbconvert_exporter": "python",
   "pygments_lexer": "ipython3",
   "version": "3.9.13"
  }
 },
 "nbformat": 4,
 "nbformat_minor": 5
}
