{
 "cells": [
  {
   "cell_type": "code",
   "execution_count": 3,
   "id": "83bfc778",
   "metadata": {},
   "outputs": [
    {
     "name": "stdout",
     "output_type": "stream",
     "text": [
      "[['국어', '영어', '수학'], ['90', '80', '100']]\n"
     ]
    }
   ],
   "source": [
    "import csv\n",
    "\n",
    "f = open('a.csv','r')\n",
    "new = csv.reader(f)\n",
    "a_list = []\n",
    "for i in new:\n",
    "    #print(i)\n",
    "    a_list.append(i)\n",
    "    \n",
    "f.close()\n",
    "\n",
    "print(a_list)"
   ]
  },
  {
   "cell_type": "code",
   "execution_count": 4,
   "id": "1582c3c7",
   "metadata": {},
   "outputs": [
    {
     "name": "stdout",
     "output_type": "stream",
     "text": [
      "[['국어', '영어', '수학'], ['90', '80', '100']]\n"
     ]
    }
   ],
   "source": [
    "def opencsv(filename):\n",
    "    f = open(filename, 'r')\n",
    "    reader = csv.reader(f)\n",
    "    output = []\n",
    "    for i in reader:\n",
    "        output.append(i)\n",
    "    f.close()\n",
    "    return output\n",
    "\n",
    "print(opencsv('a.csv'))"
   ]
  },
  {
   "cell_type": "code",
   "execution_count": 6,
   "id": "f44e22d4",
   "metadata": {},
   "outputs": [],
   "source": [
    "a = [['구','전체','내국인','외국인'],\n",
    "['서초구','169518','411515','407672'],\n",
    "['강남구','234885','536710','531777'],\n",
    "['송파구','286119','668638','662961'],\n",
    "['강동구','202861','465496','461630']]\n",
    "\n",
    "f = open('abc.csv','w',newline='')\n",
    "csvwriter = csv.writer(f, delimiter = \",\")\n",
    "csvwriter.writerows(a)\n",
    "f.close()"
   ]
  },
  {
   "cell_type": "code",
   "execution_count": 3,
   "id": "abef2a54",
   "metadata": {},
   "outputs": [
    {
     "name": "stdout",
     "output_type": "stream",
     "text": [
      "['Gu', 'Korean', 'Foreigner', 'Senior']\n",
      "['Total', '9,565,990', '229,436', '1,576,971']\n",
      "['Jongrogu', '146,029', '9,077', '27,605']\n",
      "['Jongru', '123,016', '9,243', '23,980']\n",
      "['Yongsangu', '226,378', '14,287', '38,884']\n"
     ]
    }
   ],
   "source": [
    "import usecsv\n",
    "\n",
    "total = usecsv.opencsv(\"popSeoul2021.csv\")\n",
    "\n",
    "for i in total[:5]:\n",
    "    print(i)"
   ]
  },
  {
   "cell_type": "code",
   "execution_count": 8,
   "id": "34060d0d",
   "metadata": {},
   "outputs": [
    {
     "name": "stdout",
     "output_type": "stream",
     "text": [
      "['123!!', 123456.0, '', '!!!22$&']\n"
     ]
    }
   ],
   "source": [
    "import re\n",
    "i = ['123!!','123,456','','!!!22$&']\n",
    "for j in i:\n",
    "    try:\n",
    "        i[i.index(j)] = float(re.sub(\",\",'',j))\n",
    "    except:\n",
    "        pass\n",
    "print(i)"
   ]
  },
  {
   "cell_type": "code",
   "execution_count": null,
   "id": "70478bad",
   "metadata": {},
   "outputs": [],
   "source": []
  }
 ],
 "metadata": {
  "kernelspec": {
   "display_name": "Python 3 (ipykernel)",
   "language": "python",
   "name": "python3"
  },
  "language_info": {
   "codemirror_mode": {
    "name": "ipython",
    "version": 3
   },
   "file_extension": ".py",
   "mimetype": "text/x-python",
   "name": "python",
   "nbconvert_exporter": "python",
   "pygments_lexer": "ipython3",
   "version": "3.9.13"
  }
 },
 "nbformat": 4,
 "nbformat_minor": 5
}
