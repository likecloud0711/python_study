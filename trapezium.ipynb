{
 "cells": [
  {
   "cell_type": "code",
   "execution_count": 2,
   "id": "2bcf6973",
   "metadata": {},
   "outputs": [
    {
     "name": "stdout",
     "output_type": "stream",
     "text": [
      "15\n",
      "50\n",
      "25.0\n"
     ]
    }
   ],
   "source": [
    "def addtion(x, y):\n",
    "    return x + y\n",
    "\n",
    "def multiplication(x, y):\n",
    "    return x * y\n",
    "\n",
    "def divied_by_2(x):\n",
    "    return x / 2\n",
    "\n",
    "#파이썬 셸에서 호출할 경우 실행되지 않음\n",
    "#함수가 잘 동작되는지 확인.\n",
    "#현재 문서에서 검사하는 용도로 실행할때 if __name__ == '__main__' :를 사용한다.\n",
    "if __name__=='__main__':\n",
    "    print(addtion(10,5))\n",
    "    print(multiplication(10,5))\n",
    "    print(divied_by_2(50))"
   ]
  },
  {
   "cell_type": "code",
   "execution_count": 3,
   "id": "2fb41d53",
   "metadata": {},
   "outputs": [
    {
     "name": "stdout",
     "output_type": "stream",
     "text": [
      "밑변의 길이는?5\n",
      "윗변의 길이는?6\n",
      "높이는?8\n",
      "넓이는: 44.0\n"
     ]
    }
   ],
   "source": [
    "def addtion(x, y):\n",
    "    return x + y\n",
    "\n",
    "def multiplication(x, y):\n",
    "    return x * y\n",
    "\n",
    "def divied_by_2(x):\n",
    "    return x / 2\n",
    "\n",
    "def main():\n",
    "    base_line = float(input(\"밑변의 길이는?\"))\n",
    "    upper_edge = float(input(\"윗변의 길이는?\"))\n",
    "    height = float(input(\"높이는?\"))\n",
    "    \n",
    "    print(\"넓이는:\", multiplication(divied_by_2(addtion(base_line, upper_edge)) * height))\n",
    "    \n",
    "if __name__ == '__main__':\n",
    "    main()"
   ]
  },
  {
   "cell_type": "code",
   "execution_count": null,
   "id": "53a4b3fd",
   "metadata": {},
   "outputs": [],
   "source": []
  }
 ],
 "metadata": {
  "kernelspec": {
   "display_name": "Python 3 (ipykernel)",
   "language": "python",
   "name": "python3"
  },
  "language_info": {
   "codemirror_mode": {
    "name": "ipython",
    "version": 3
   },
   "file_extension": ".py",
   "mimetype": "text/x-python",
   "name": "python",
   "nbconvert_exporter": "python",
   "pygments_lexer": "ipython3",
   "version": "3.9.13"
  }
 },
 "nbformat": 4,
 "nbformat_minor": 5
}
