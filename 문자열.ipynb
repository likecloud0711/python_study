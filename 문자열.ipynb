{
 "cells": [
  {
   "cell_type": "code",
   "execution_count": 4,
   "id": "42d2b48a",
   "metadata": {},
   "outputs": [
    {
     "name": "stdout",
     "output_type": "stream",
     "text": [
      "50 51 52\n",
      "76 78 80\n"
     ]
    }
   ],
   "source": [
    "import sys\n",
    "\n",
    "print(sys.getsizeof('a'), sys.getsizeof('ab'), sys.getsizeof('abc'))\n",
    "print(sys.getsizeof('가'), sys.getsizeof('가나'), sys.getsizeof('가나다'))"
   ]
  },
  {
   "cell_type": "code",
   "execution_count": 5,
   "id": "aa28739d",
   "metadata": {},
   "outputs": [
    {
     "name": "stdout",
     "output_type": "stream",
     "text": [
      "abcabcabcabcabc\n"
     ]
    }
   ],
   "source": [
    "print(\"abc\" * 5)"
   ]
  },
  {
   "cell_type": "code",
   "execution_count": 6,
   "id": "4b3cfa8e",
   "metadata": {},
   "outputs": [
    {
     "name": "stdout",
     "output_type": "stream",
     "text": [
      "1\n"
     ]
    }
   ],
   "source": [
    "a = \"python\"\n",
    "res = a.count(\"p\")\n",
    "print(res)"
   ]
  },
  {
   "cell_type": "code",
   "execution_count": 7,
   "id": "f35e0097",
   "metadata": {},
   "outputs": [
    {
     "name": "stdout",
     "output_type": "stream",
     "text": [
      "1\n",
      "1\n",
      "-1\n"
     ]
    }
   ],
   "source": [
    "res = a.find(\"y\")\n",
    "print(res)\n",
    "\n",
    "res = a.index('y')\n",
    "print(res)\n",
    "\n",
    "res = a.find('z')\n",
    "print(res)"
   ]
  },
  {
   "cell_type": "code",
   "execution_count": 8,
   "id": "757226c8",
   "metadata": {},
   "outputs": [
    {
     "name": "stdout",
     "output_type": "stream",
     "text": [
      "7\n"
     ]
    }
   ],
   "source": [
    "b = 'abcabcabc'\n",
    "res = b.find('b',5)\n",
    "print(res)"
   ]
  },
  {
   "cell_type": "code",
   "execution_count": 9,
   "id": "6ce77baf",
   "metadata": {},
   "outputs": [
    {
     "name": "stdout",
     "output_type": "stream",
     "text": [
      "python sython\n"
     ]
    }
   ],
   "source": [
    "res = a.replace(\"py\",\"sy\")\n",
    "print(a, res)"
   ]
  },
  {
   "cell_type": "code",
   "execution_count": 11,
   "id": "e2c907ab",
   "metadata": {},
   "outputs": [
    {
     "name": "stdout",
     "output_type": "stream",
     "text": [
      "data1 data2 data3 data1data2data3\n"
     ]
    }
   ],
   "source": [
    "a = \"data1 data2 data3\"\n",
    "res = a.replace(' ', '')\n",
    "print(a, res)"
   ]
  },
  {
   "cell_type": "code",
   "execution_count": 12,
   "id": "ff537231",
   "metadata": {},
   "outputs": [
    {
     "name": "stdout",
     "output_type": "stream",
     "text": [
      "['python', 'java', 'javascript']\n",
      "['python', 'java', 'javascript']\n",
      "['python', 'java', 'javascript']\n"
     ]
    }
   ],
   "source": [
    "ss = \"python java javascript\"\n",
    "print(ss.split())\n",
    "ss = \"python:java:javascript\"\n",
    "print(ss.split(\":\"))\n",
    "ss = \"python\\njava\\njavascript\"\n",
    "print(ss.splitlines())"
   ]
  },
  {
   "cell_type": "code",
   "execution_count": 20,
   "id": "5b08efa4",
   "metadata": {},
   "outputs": [
    {
     "name": "stdout",
     "output_type": "stream",
     "text": [
      "날짜(연/월/일) 입력 ==> 1996/07/11\n",
      "10년 후 ==> 2006 년07 월11 일\n"
     ]
    }
   ],
   "source": [
    "# 연/월/일 형식으로 문자열을 입력 받아 10년 후 날짜를 출력하는 코드\n",
    "\n",
    "ss = input(\"날짜(연/월/일) 입력 ==> \")\n",
    "ssList = ss.split(\"/\")\n",
    "print(\"10년 후 ==> \", end = \"\")\n",
    "print(int(ssList[0])+10, \"년\", end = \"\")\n",
    "print(ssList[1],\"월\", end = \"\")\n",
    "print(ssList[2],\"일\")"
   ]
  },
  {
   "cell_type": "code",
   "execution_count": 23,
   "id": "d8b67787",
   "metadata": {},
   "outputs": [
    {
     "name": "stdout",
     "output_type": "stream",
     "text": [
      "Number of a Word 'Yesterday' 9 개\n"
     ]
    }
   ],
   "source": [
    "f = open(\"yesterday.txt\", \"r\")\n",
    "yesterday_lyric = f.readlines()\n",
    "f.close()\n",
    "\n",
    "contents = \"\"\n",
    "for line in yesterday_lyric:\n",
    "    contents = contents + line.strip() + \"\\n\"\n",
    "    \n",
    "n_of_yesterday = contents.upper().count(\"YESTERDAY\")\n",
    "print(\"Number of a Word 'Yesterday'\", n_of_yesterday, \"개\")"
   ]
  },
  {
   "cell_type": "code",
   "execution_count": null,
   "id": "46acc99d",
   "metadata": {},
   "outputs": [],
   "source": []
  }
 ],
 "metadata": {
  "kernelspec": {
   "display_name": "Python 3 (ipykernel)",
   "language": "python",
   "name": "python3"
  },
  "language_info": {
   "codemirror_mode": {
    "name": "ipython",
    "version": 3
   },
   "file_extension": ".py",
   "mimetype": "text/x-python",
   "name": "python",
   "nbconvert_exporter": "python",
   "pygments_lexer": "ipython3",
   "version": "3.9.13"
  }
 },
 "nbformat": 4,
 "nbformat_minor": 5
}
