{
 "cells": [
  {
   "cell_type": "code",
   "execution_count": 1,
   "id": "c3cf4955",
   "metadata": {},
   "outputs": [
    {
     "name": "stdout",
     "output_type": "stream",
     "text": [
      "[[2 3]\n",
      " [5 2]]\n"
     ]
    }
   ],
   "source": [
    "import numpy as np\n",
    "\n",
    "a = np.array([[2,3],[5,2]])\n",
    "print(a)"
   ]
  },
  {
   "cell_type": "code",
   "execution_count": 6,
   "id": "c720d875",
   "metadata": {},
   "outputs": [
    {
     "name": "stdout",
     "output_type": "stream",
     "text": [
      "[[ 1  2  3  4  5]\n",
      " [ 2  4  6  8 10]\n",
      " [ 5  6  7  8  9]]\n",
      "6\n",
      "6\n",
      "[[ 8 10]\n",
      " [ 8  9]] <class 'numpy.ndarray'>\n"
     ]
    }
   ],
   "source": [
    "d = np.array([[1,2,3,4,5],[2,4,6,8,10],[5,6,7,8,9]])\n",
    "\n",
    "print(d)\n",
    "\n",
    "print(d[1][2])\n",
    "print(d[1,2])\n",
    "print(d[1:,3:], type(d[1:,3:]))"
   ]
  },
  {
   "cell_type": "code",
   "execution_count": 8,
   "id": "9398b8be",
   "metadata": {},
   "outputs": [
    {
     "name": "stdout",
     "output_type": "stream",
     "text": [
      "(5,)\n",
      "(2, 5)\n"
     ]
    }
   ],
   "source": [
    "d = np.array([1,2,3,4,5])\n",
    "print(d.shape)\n",
    "\n",
    "d = np.array([[1,2,3,4,5],[2,4,6,8,10]])\n",
    "print(d.shape)"
   ]
  },
  {
   "cell_type": "code",
   "execution_count": 9,
   "id": "f57c9d0b",
   "metadata": {},
   "outputs": [
    {
     "name": "stdout",
     "output_type": "stream",
     "text": [
      "int32\n"
     ]
    }
   ],
   "source": [
    "print(d.dtype)"
   ]
  },
  {
   "cell_type": "code",
   "execution_count": 10,
   "id": "cff30076",
   "metadata": {},
   "outputs": [
    {
     "data": {
      "text/plain": [
       "dtype('int32')"
      ]
     },
     "execution_count": 10,
     "metadata": {},
     "output_type": "execute_result"
    }
   ],
   "source": [
    "data = np.arange(1,5)\n",
    "data.dtype"
   ]
  },
  {
   "cell_type": "code",
   "execution_count": 11,
   "id": "18caed4e",
   "metadata": {},
   "outputs": [
    {
     "data": {
      "text/plain": [
       "array([1., 2., 3., 4.])"
      ]
     },
     "execution_count": 11,
     "metadata": {},
     "output_type": "execute_result"
    }
   ],
   "source": [
    "data.astype('float64')"
   ]
  },
  {
   "cell_type": "code",
   "execution_count": 12,
   "id": "33d16149",
   "metadata": {},
   "outputs": [
    {
     "data": {
      "text/plain": [
       "array([1, 2, 3, 4])"
      ]
     },
     "execution_count": 12,
     "metadata": {},
     "output_type": "execute_result"
    }
   ],
   "source": [
    "data.astype('int32')"
   ]
  },
  {
   "cell_type": "code",
   "execution_count": 13,
   "id": "d892bbec",
   "metadata": {},
   "outputs": [
    {
     "data": {
      "text/plain": [
       "array([[0., 0., 0., 0., 0., 0., 0., 0., 0., 0.]])"
      ]
     },
     "execution_count": 13,
     "metadata": {},
     "output_type": "execute_result"
    }
   ],
   "source": [
    "# 0으로 이뤄진 배열 만들기\n",
    "np.zeros((1,10))"
   ]
  },
  {
   "cell_type": "code",
   "execution_count": 14,
   "id": "d80ecab1",
   "metadata": {},
   "outputs": [
    {
     "data": {
      "text/plain": [
       "array([[1., 1., 1., 1., 1., 1., 1., 1., 1., 1.],\n",
       "       [1., 1., 1., 1., 1., 1., 1., 1., 1., 1.]])"
      ]
     },
     "execution_count": 14,
     "metadata": {},
     "output_type": "execute_result"
    }
   ],
   "source": [
    "# 1로 이뤄진 배열 만들기\n",
    "np.ones((2,10))"
   ]
  },
  {
   "cell_type": "code",
   "execution_count": 15,
   "id": "081c2fa9",
   "metadata": {},
   "outputs": [
    {
     "data": {
      "text/plain": [
       "array([2, 3, 4, 5, 6, 7, 8, 9])"
      ]
     },
     "execution_count": 15,
     "metadata": {},
     "output_type": "execute_result"
    }
   ],
   "source": [
    "# 연속형 정수 생성하기\n",
    "np.arange(2,10)"
   ]
  },
  {
   "cell_type": "code",
   "execution_count": 19,
   "id": "2b347dae",
   "metadata": {},
   "outputs": [
    {
     "name": "stdout",
     "output_type": "stream",
     "text": [
      "[[1. 1. 1. 1.]\n",
      " [1. 1. 1. 1.]]\n",
      "[[1. 1.]\n",
      " [1. 1.]\n",
      " [1. 1.]\n",
      " [1. 1.]]\n"
     ]
    }
   ],
   "source": [
    "# 행과 열을 바꾸기\n",
    "a = np.ones((2,4))\n",
    "print(a)\n",
    "b = np.transpose(a)\n",
    "print(b)"
   ]
  },
  {
   "cell_type": "code",
   "execution_count": 1,
   "id": "38278b3d",
   "metadata": {},
   "outputs": [
    {
     "name": "stdout",
     "output_type": "stream",
     "text": [
      "[[0 0 0 0 0]\n",
      " [0 0 0 0 0]\n",
      " [6 5 7 8 9]]\n"
     ]
    }
   ],
   "source": [
    "import numpy as np\n",
    "\n",
    "d = np.array([[1,2,3,4,5],[2,4,5,6,7],[6,5,7,8,9]])\n",
    "d_list = [[1,2,3,4,5],[2,4,5,6,7],[6,5,7,8,9]]\n",
    "\n",
    "# d_list [:2] = 0 오류 발생\n",
    "d[:2] = 0\n",
    "print(d)"
   ]
  },
  {
   "cell_type": "code",
   "execution_count": 2,
   "id": "89ed5d95",
   "metadata": {},
   "outputs": [
    {
     "name": "stdout",
     "output_type": "stream",
     "text": [
      "[0 1 2 3 4 5 6 7 8 9]\n",
      "[0 1 2 3 4]\n",
      "[7 8 9]\n"
     ]
    }
   ],
   "source": [
    "# 0~9까지 원소를 가지는 배열 arr 생성\n",
    "\n",
    "arr = np.arange(10)\n",
    "print(arr)\n",
    "\n",
    "print(arr[:5])\n",
    "print(arr[-3:])"
   ]
  },
  {
   "cell_type": "code",
   "execution_count": 3,
   "id": "f2703afe",
   "metadata": {},
   "outputs": [
    {
     "name": "stdout",
     "output_type": "stream",
     "text": [
      "8\n",
      "[4 8]\n"
     ]
    }
   ],
   "source": [
    "arr1 = np.array([[2,3,4],[6,7,8]])\n",
    "\n",
    "print(arr1[1,2])\n",
    "print(arr1[:,2])"
   ]
  },
  {
   "cell_type": "code",
   "execution_count": 8,
   "id": "ae1b678a",
   "metadata": {},
   "outputs": [
    {
     "name": "stdout",
     "output_type": "stream",
     "text": [
      "[[1. 2. 1. 2. 2.]\n",
      " [1. 3. 2. 3. 2.]\n",
      " [1. 4. 3. 3. 3.]\n",
      " [2. 5. 4. 4. 4.]\n",
      " [2. 5. 6. 2. 5.]\n",
      " [3. 6. 4. 2. 5.]\n",
      " [3. 5. 4. 1. 6.]\n",
      " [3. 5. 5. 1. 3.]]\n"
     ]
    }
   ],
   "source": [
    "import usecsv, numpy as np\n",
    "\n",
    "quest = np.array(usecsv.switch(usecsv.opencsv(\"quest.csv\")))\n",
    "print(quest)"
   ]
  },
  {
   "cell_type": "code",
   "execution_count": 9,
   "id": "cb467e87",
   "metadata": {},
   "outputs": [
    {
     "name": "stdout",
     "output_type": "stream",
     "text": [
      "[[False False False False False]\n",
      " [False False False False False]\n",
      " [False False False False False]\n",
      " [False False False False False]\n",
      " [False False  True False False]\n",
      " [False  True False False False]\n",
      " [False False False False  True]\n",
      " [False False False False False]]\n"
     ]
    }
   ],
   "source": [
    "print(quest > 5)"
   ]
  },
  {
   "cell_type": "code",
   "execution_count": 10,
   "id": "0d80ec2a",
   "metadata": {},
   "outputs": [
    {
     "name": "stdout",
     "output_type": "stream",
     "text": [
      "[6. 6. 6.]\n"
     ]
    }
   ],
   "source": [
    "print(quest[quest > 5])"
   ]
  },
  {
   "cell_type": "code",
   "execution_count": 11,
   "id": "2a2d568b",
   "metadata": {},
   "outputs": [
    {
     "name": "stdout",
     "output_type": "stream",
     "text": [
      "[[1. 2. 1. 2. 2.]\n",
      " [1. 3. 2. 3. 2.]\n",
      " [1. 4. 3. 3. 3.]\n",
      " [2. 5. 4. 4. 4.]\n",
      " [2. 5. 5. 2. 5.]\n",
      " [3. 5. 4. 2. 5.]\n",
      " [3. 5. 4. 1. 5.]\n",
      " [3. 5. 5. 1. 3.]]\n"
     ]
    }
   ],
   "source": [
    "quest[quest > 5] = 5\n",
    "print(quest)"
   ]
  },
  {
   "cell_type": "code",
   "execution_count": null,
   "id": "0b1a1432",
   "metadata": {},
   "outputs": [],
   "source": []
  }
 ],
 "metadata": {
  "kernelspec": {
   "display_name": "Python 3 (ipykernel)",
   "language": "python",
   "name": "python3"
  },
  "language_info": {
   "codemirror_mode": {
    "name": "ipython",
    "version": 3
   },
   "file_extension": ".py",
   "mimetype": "text/x-python",
   "name": "python",
   "nbconvert_exporter": "python",
   "pygments_lexer": "ipython3",
   "version": "3.9.13"
  }
 },
 "nbformat": 4,
 "nbformat_minor": 5
}
