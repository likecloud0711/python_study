{
 "cells": [
  {
   "cell_type": "markdown",
   "id": "17bc434f",
   "metadata": {},
   "source": [
    "#### 문제 1\n",
    "2022년 10월 세번째 주의 삼성전자 종가는 아래 표와 같습니다. 10/17일의 종가를 리스트의 첫 번째 항목으로 입력해서 ss_closing_price라는 이름의 리스트를 만들어보세요."
   ]
  },
  {
   "cell_type": "code",
   "execution_count": 1,
   "id": "671fa39d",
   "metadata": {},
   "outputs": [],
   "source": [
    "ss_closing_price = [56600, 56500, 55800, 55500, 55900]"
   ]
  },
  {
   "cell_type": "markdown",
   "id": "211d7513",
   "metadata": {},
   "source": [
    "#### 문제 2\n",
    "문제 1에서 만든 ss_closing_price를 이용해 해당 주에 종가를 기준으로 가장 높았던 가격을 출력하세요. (힌트: 리스트에서 최댓값을 찾는 함수는 max()이고, 화면에 출력하는 함수는 print()입니다.)"
   ]
  },
  {
   "cell_type": "code",
   "execution_count": 3,
   "id": "b33805b9",
   "metadata": {},
   "outputs": [
    {
     "name": "stdout",
     "output_type": "stream",
     "text": [
      "56600\n"
     ]
    }
   ],
   "source": [
    "max_price = max(ss_closing_price)\n",
    "print(max_price)"
   ]
  },
  {
   "cell_type": "markdown",
   "id": "8149c58d",
   "metadata": {},
   "source": [
    "#### 문제 3\n",
    "문제 1에서 만든 ss_closing_price를 이용해 해당 주에 종가를 기준으로 가장 낮았던 가격을 출력하세요. (힌트: 리스트에서 최솟값을 찾는 함수는 min()이고, 화면에 출력하는 함수는 print()입니다.)"
   ]
  },
  {
   "cell_type": "code",
   "execution_count": 4,
   "id": "d29e4186",
   "metadata": {
    "scrolled": true
   },
   "outputs": [
    {
     "name": "stdout",
     "output_type": "stream",
     "text": [
      "55500\n"
     ]
    }
   ],
   "source": [
    "min_price = min(ss_closing_price)\n",
    "print(min_price)"
   ]
  },
  {
   "cell_type": "markdown",
   "id": "1b5aab7d",
   "metadata": {},
   "source": [
    "#### 문제 4\n",
    "문제 1에서 만든 ss_closing_price를 이용해 해당 주에서 가장 종가가 높았던 요일과 가장 종가가 낮았던 요일의 가격 차를 화면에 출력하세요."
   ]
  },
  {
   "cell_type": "code",
   "execution_count": 6,
   "id": "e50b30a5",
   "metadata": {},
   "outputs": [
    {
     "name": "stdout",
     "output_type": "stream",
     "text": [
      "가격 차:  1100 원\n"
     ]
    }
   ],
   "source": [
    "print(\"가격 차: \",max_price - min_price,\"원\")"
   ]
  },
  {
   "cell_type": "markdown",
   "id": "f7472ef0",
   "metadata": {},
   "source": [
    "#### 문제 5\n",
    "문제 1에서 만든 ss_closing_price를 이용해 수요일의 종가를 화면에 출력하세요."
   ]
  },
  {
   "cell_type": "code",
   "execution_count": 9,
   "id": "fd7fe842",
   "metadata": {},
   "outputs": [
    {
     "name": "stdout",
     "output_type": "stream",
     "text": [
      "55800\n"
     ]
    }
   ],
   "source": [
    "day_of_week = ['월','화','수','목','금']\n",
    "wed = day_of_week.index('수')\n",
    "\n",
    "wed_price = ss_closing_price[wed]\n",
    "print(wed_price)"
   ]
  },
  {
   "cell_type": "markdown",
   "id": "305e6442",
   "metadata": {},
   "source": [
    "#### 문제 6\n",
    "표1를 이용해 날짜를 딕셔너리의 키 값으로, 종가를 딕셔너리의 값으로 사용해 ss_closing_price2라는 딕셔너리를 만드세요."
   ]
  },
  {
   "cell_type": "code",
   "execution_count": 13,
   "id": "cf0eea4a",
   "metadata": {},
   "outputs": [
    {
     "name": "stdout",
     "output_type": "stream",
     "text": [
      "{'10/17': 55600, '10/18': 56500, '10/19': 55800, '10/20': 55500, '10/21': 55900}\n"
     ]
    }
   ],
   "source": [
    "ss_closing_price2 = {'10/17':55600, '10/18':56500, '10/19':55800, '10/20':55500, '10/21':55900}\n",
    "print(ss_closing_price2)"
   ]
  },
  {
   "cell_type": "markdown",
   "id": "717ce75a",
   "metadata": {},
   "source": [
    "#### 문제 7\n",
    "문제 6에서 만든 ss_closing_price2 딕셔너리를 이용해 10/19일의 종가를 출력하세요."
   ]
  },
  {
   "cell_type": "code",
   "execution_count": 14,
   "id": "285ba4e0",
   "metadata": {},
   "outputs": [
    {
     "name": "stdout",
     "output_type": "stream",
     "text": [
      "55800\n"
     ]
    }
   ],
   "source": [
    "print(ss_closing_price2['10/19'])"
   ]
  },
  {
   "cell_type": "code",
   "execution_count": null,
   "id": "7cc57536",
   "metadata": {},
   "outputs": [],
   "source": []
  }
 ],
 "metadata": {
  "kernelspec": {
   "display_name": "Python 3 (ipykernel)",
   "language": "python",
   "name": "python3"
  },
  "language_info": {
   "codemirror_mode": {
    "name": "ipython",
    "version": 3
   },
   "file_extension": ".py",
   "mimetype": "text/x-python",
   "name": "python",
   "nbconvert_exporter": "python",
   "pygments_lexer": "ipython3",
   "version": "3.9.13"
  }
 },
 "nbformat": 4,
 "nbformat_minor": 5
}
