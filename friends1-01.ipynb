{
 "cells": [
  {
   "cell_type": "code",
   "execution_count": 1,
   "id": "f61af0a9",
   "metadata": {},
   "outputs": [
    {
     "data": {
      "text/plain": [
       "['.ipynb_checkpoints',\n",
       " 'friends1-01.ipynb',\n",
       " 'friends101.txt',\n",
       " 'korean.txt',\n",
       " 're 모듈 연습하기.ipynb',\n",
       " 'test.txt',\n",
       " '파일_입출력_연습하기.ipynb']"
      ]
     },
     "execution_count": 1,
     "metadata": {},
     "output_type": "execute_result"
    }
   ],
   "source": [
    "import re, os\n",
    "\n",
    "os.listdir()"
   ]
  },
  {
   "cell_type": "code",
   "execution_count": 7,
   "id": "f53a8b28",
   "metadata": {},
   "outputs": [
    {
     "name": "stdout",
     "output_type": "stream",
     "text": [
      "The One Where Monica Gets a New Roommate (The Pilot-The Uncut Version)\n",
      "Written by: Marta Kauffman & \n"
     ]
    }
   ],
   "source": [
    "f = open('friends101.txt','r',encoding='utf-8')\n",
    "\n",
    "script101 = f.read()\n",
    "print(script101[:100])\n",
    "\n",
    "f.close()"
   ]
  },
  {
   "cell_type": "markdown",
   "id": "5c4b2b34",
   "metadata": {},
   "source": [
    "특정 등장인물의 대사만 모으기"
   ]
  },
  {
   "cell_type": "code",
   "execution_count": 9,
   "id": "a54c7034",
   "metadata": {},
   "outputs": [
    {
     "name": "stdout",
     "output_type": "stream",
     "text": [
      "[\"Monica: There's nothing to tell! He's just some guy I work with!\", \"Monica: Okay, everybody relax. This is not even a date. It's just two people going out to dinner and- not having sex.\", \"Monica: And they weren't looking at you before?!\"]\n"
     ]
    }
   ],
   "source": [
    "Line = re.findall(r'Monica:.+',script101)\n",
    "print(Line[:3])"
   ]
  },
  {
   "cell_type": "code",
   "execution_count": 11,
   "id": "00a54637",
   "metadata": {},
   "outputs": [
    {
     "name": "stdout",
     "output_type": "stream",
     "text": [
      "Monica: There's nothing to tell! He's just some guy I work with!\n",
      "Monica: Okay, everybody relax. This is not even a date. It's just two people going out to dinner and- not having sex.\n",
      "Monica: And they weren't looking at you before?!\n"
     ]
    }
   ],
   "source": [
    "m_lines = re.findall(r'Monica:.+', script101)\n",
    "\n",
    "for item in m_lines[:3]:\n",
    "    print(item)\n",
    "    \n",
    "f = open('monica.txt','w',encoding='utf8')\n",
    "m = ''\n",
    "\n",
    "for i in m_lines:\n",
    "    m += i + \"\\n\"\n",
    "    \n",
    "f.write(m)\n",
    "f.close()"
   ]
  },
  {
   "cell_type": "code",
   "execution_count": 13,
   "id": "47f936eb",
   "metadata": {},
   "outputs": [
    {
     "name": "stdout",
     "output_type": "stream",
     "text": [
      "{'Waitress:', 'Paul:', 'Ross:', 'Customer:', 'Joey:', 'Chandler:', 'All:', 'Phoebe:', 'Scene:', 'Rachel:', 'Frannie:', 'Monica:', 'Note:'}\n"
     ]
    }
   ],
   "source": [
    "print(set(re.findall(r'[A-Z][a-z]+:', script101)))"
   ]
  },
  {
   "cell_type": "code",
   "execution_count": 17,
   "id": "7e43d84c",
   "metadata": {},
   "outputs": [
    {
     "name": "stdout",
     "output_type": "stream",
     "text": [
      "['Waitress', 'Paul', 'Ross', 'Customer', 'Joey', 'Chandler', 'All', 'Phoebe', 'Scene', 'Rachel', 'Frannie', 'Monica', 'Note']\n"
     ]
    }
   ],
   "source": [
    "character = [x[:-1] for x in list(set(re.findall(r'[A-Z][a-z]+:', script101)))]\n",
    "print(character)"
   ]
  },
  {
   "cell_type": "code",
   "execution_count": null,
   "id": "f7086284",
   "metadata": {},
   "outputs": [],
   "source": []
  }
 ],
 "metadata": {
  "kernelspec": {
   "display_name": "Python 3 (ipykernel)",
   "language": "python",
   "name": "python3"
  },
  "language_info": {
   "codemirror_mode": {
    "name": "ipython",
    "version": 3
   },
   "file_extension": ".py",
   "mimetype": "text/x-python",
   "name": "python",
   "nbconvert_exporter": "python",
   "pygments_lexer": "ipython3",
   "version": "3.9.13"
  }
 },
 "nbformat": 4,
 "nbformat_minor": 5
}
