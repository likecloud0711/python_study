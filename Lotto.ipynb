{
 "cells": [
  {
   "cell_type": "code",
   "execution_count": 2,
   "id": "2899dbe3",
   "metadata": {},
   "outputs": [
    {
     "name": "stdout",
     "output_type": "stream",
     "text": [
      "** 로또 추첨을 시작합니다. **\n",
      "로또 번호 -->  [17, 22, 31, 32, 41, 44]\n"
     ]
    }
   ],
   "source": [
    "import random\n",
    "\n",
    "def getNumber():\n",
    "    return random.randrange(1,46)\n",
    "\n",
    "##선언된 함수를 이용해 로또 추첨기를 만들어보세요\n",
    "#6개의 숫자는 중복되지 않아야 합니다\n",
    "#다 뽑았으면 정렬해서 출력해주세요\n",
    "\n",
    "lotto = []\n",
    "\n",
    "print(\"** 로또 추첨을 시작합니다. **\")\n",
    "\n",
    "while True:\n",
    "    num = getNumber()\n",
    "    \n",
    "    if lotto.count(num) == 0:\n",
    "        lotto.append(num)\n",
    "    if len(lotto) >= 6:\n",
    "        break\n",
    "        \n",
    "print(\"로또 번호 --> \", end = \" \")\n",
    "lotto.sort()\n",
    "print(lotto)"
   ]
  }
 ],
 "metadata": {
  "kernelspec": {
   "display_name": "Python 3 (ipykernel)",
   "language": "python",
   "name": "python3"
  },
  "language_info": {
   "codemirror_mode": {
    "name": "ipython",
    "version": 3
   },
   "file_extension": ".py",
   "mimetype": "text/x-python",
   "name": "python",
   "nbconvert_exporter": "python",
   "pygments_lexer": "ipython3",
   "version": "3.9.13"
  }
 },
 "nbformat": 4,
 "nbformat_minor": 5
}
