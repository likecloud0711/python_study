{
 "cells": [
  {
   "cell_type": "code",
   "execution_count": 1,
   "id": "54db484f",
   "metadata": {},
   "outputs": [
    {
     "name": "stdout",
     "output_type": "stream",
     "text": [
      "숫자를 맞혀 보세요.(1 ~ 100)\n",
      "20\n",
      "숫자가 너무 작습니다.\n",
      "40\n",
      "숫자가 너무 작습니다.\n",
      "50\n",
      "숫자가 너무 작습니다.\n",
      "60\n",
      "숫자가 너무 작습니다.\n",
      "70\n",
      "정답입니다. 입력한 숫자는 70 입니다.\n"
     ]
    }
   ],
   "source": [
    "import random\n",
    "guess_number = random.randint(1,100)\n",
    "print(\"숫자를 맞혀 보세요.(1 ~ 100)\")\n",
    "users_input = int(input())\n",
    "while(users_input is not guess_number):\n",
    "    if users_input > guess_number:\n",
    "        print(\"숫자가 너무 큽니다.\")\n",
    "    else:\n",
    "        print(\"숫자가 너무 작습니다.\")\n",
    "    users_input = int(input())\n",
    "else:\n",
    "    print(\"정답입니다.\",\"입력한 숫자는\", users_input,\"입니다.\")"
   ]
  }
 ],
 "metadata": {
  "kernelspec": {
   "display_name": "Python 3 (ipykernel)",
   "language": "python",
   "name": "python3"
  },
  "language_info": {
   "codemirror_mode": {
    "name": "ipython",
    "version": 3
   },
   "file_extension": ".py",
   "mimetype": "text/x-python",
   "name": "python",
   "nbconvert_exporter": "python",
   "pygments_lexer": "ipython3",
   "version": "3.9.13"
  }
 },
 "nbformat": 4,
 "nbformat_minor": 5
}
