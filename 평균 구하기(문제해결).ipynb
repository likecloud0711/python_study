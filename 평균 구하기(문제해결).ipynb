{
 "cells": [
  {
   "cell_type": "code",
   "execution_count": 2,
   "id": "1828e6aa",
   "metadata": {},
   "outputs": [
    {
     "name": "stdout",
     "output_type": "stream",
     "text": [
      "[47.0, 74.0, 51.0, 60.0, 90.0]\n"
     ]
    }
   ],
   "source": [
    "kor_score = [49,80,20,100,80]\n",
    "math_score = [43,60,85,30,90]\n",
    "eng_score = [49,82,48,50,100]\n",
    "midterm_score = [kor_score,math_score,eng_score]\n",
    "\n",
    "student_score = [0,0,0,0,0]\n",
    "i = 0\n",
    "for subject in midterm_score:\n",
    "    for score in subject:\n",
    "        student_score[i] += score\n",
    "        i += 1\n",
    "    i = 0\n",
    "else:\n",
    "    a,b,c,d,e = student_score\n",
    "    student_average = [a/3,b/3,c/3,d/3,e/3]\n",
    "    print(student_average)"
   ]
  }
 ],
 "metadata": {
  "kernelspec": {
   "display_name": "Python 3 (ipykernel)",
   "language": "python",
   "name": "python3"
  },
  "language_info": {
   "codemirror_mode": {
    "name": "ipython",
    "version": 3
   },
   "file_extension": ".py",
   "mimetype": "text/x-python",
   "name": "python",
   "nbconvert_exporter": "python",
   "pygments_lexer": "ipython3",
   "version": "3.9.13"
  }
 },
 "nbformat": 4,
 "nbformat_minor": 5
}
