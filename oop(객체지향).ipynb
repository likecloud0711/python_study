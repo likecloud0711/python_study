{
 "cells": [
  {
   "cell_type": "code",
   "execution_count": 1,
   "id": "39d19247",
   "metadata": {},
   "outputs": [],
   "source": [
    "class SoccerPlayer(object):\n",
    "    def __init__(self, name, position, back_number):\n",
    "        self.name = name\n",
    "        self.position = position\n",
    "        self.back_number = back_number\n",
    "    def change_back_number(self, new_number):\n",
    "        print('선수의 등번호 변경 : From %d to %d'%(self.back_number, new_number))\n",
    "        self.back_number = new_number\n",
    "    def __str__(self):\n",
    "        return \"hello, I'm %s. I play in %s in center\" %(self.name, self.position)"
   ]
  },
  {
   "cell_type": "code",
   "execution_count": 2,
   "id": "51d26bcf",
   "metadata": {},
   "outputs": [
    {
     "name": "stdout",
     "output_type": "stream",
     "text": [
      "hello, I'm Heung-Min. I play in SS in center\n"
     ]
    }
   ],
   "source": [
    "hm = SoccerPlayer(\"Heung-Min\",\"SS\",7)\n",
    "print(hm)"
   ]
  },
  {
   "cell_type": "code",
   "execution_count": 3,
   "id": "da9ab808",
   "metadata": {},
   "outputs": [
    {
     "name": "stdout",
     "output_type": "stream",
     "text": [
      "현재 선수의 등번호는 :  7\n"
     ]
    }
   ],
   "source": [
    "print(\"현재 선수의 등번호는 : \", hm.back_number)"
   ]
  },
  {
   "cell_type": "code",
   "execution_count": 3,
   "id": "1762ccae",
   "metadata": {},
   "outputs": [
    {
     "ename": "NameError",
     "evalue": "name 'hm' is not defined",
     "output_type": "error",
     "traceback": [
      "\u001b[1;31m---------------------------------------------------------------------------\u001b[0m",
      "\u001b[1;31mNameError\u001b[0m                                 Traceback (most recent call last)",
      "\u001b[1;32m~\\AppData\\Local\\Temp\\ipykernel_16368\\2944965638.py\u001b[0m in \u001b[0;36m<module>\u001b[1;34m\u001b[0m\n\u001b[1;32m----> 1\u001b[1;33m \u001b[0mhm\u001b[0m\u001b[1;33m.\u001b[0m\u001b[0mchange_back_number\u001b[0m\u001b[1;33m(\u001b[0m\u001b[1;36m77\u001b[0m\u001b[1;33m)\u001b[0m\u001b[1;33m\u001b[0m\u001b[1;33m\u001b[0m\u001b[0m\n\u001b[0m\u001b[0;32m      2\u001b[0m \u001b[0mprint\u001b[0m\u001b[1;33m(\u001b[0m\u001b[1;34m\"현재 선수의 등번호는 : \"\u001b[0m\u001b[1;33m,\u001b[0m \u001b[0mhm\u001b[0m\u001b[1;33m.\u001b[0m\u001b[0mback_number\u001b[0m\u001b[1;33m)\u001b[0m\u001b[1;33m\u001b[0m\u001b[1;33m\u001b[0m\u001b[0m\n",
      "\u001b[1;31mNameError\u001b[0m: name 'hm' is not defined"
     ]
    }
   ],
   "source": [
    "hm.change_back_number(77)\n",
    "print(\"현재 선수의 등번호는 : \", hm.back_number)"
   ]
  },
  {
   "cell_type": "markdown",
   "id": "e00e148e",
   "metadata": {},
   "source": [
    "상속"
   ]
  },
  {
   "cell_type": "code",
   "execution_count": 6,
   "id": "843bc528",
   "metadata": {},
   "outputs": [
    {
     "name": "stdout",
     "output_type": "stream",
     "text": [
      "Geonhui\n"
     ]
    }
   ],
   "source": [
    " class Person(object):\n",
    "        def __init__(self, name, age):\n",
    "            self.name = name\n",
    "            self.age = age\n",
    "            \n",
    "class Korean(Person):\n",
    "    pass\n",
    "\n",
    "first_korean = Korean(\"Geonhui\", 27)\n",
    "print(first_korean.name)"
   ]
  },
  {
   "cell_type": "code",
   "execution_count": 7,
   "id": "18e15422",
   "metadata": {},
   "outputs": [],
   "source": [
    "class Person(object):    #부모 클래스 Person 선언\n",
    "    def __init__(self, name, age, gender):\n",
    "        self.name = name\n",
    "        self.age = age\n",
    "        self.gender = gender\n",
    "        \n",
    "    def about_me(self):    #메서드 선언\n",
    "        print(\"저의 이름은\", self.name, \"이고, 제 나이는\", str(self.age), \"살입니다.\")"
   ]
  },
  {
   "cell_type": "code",
   "execution_count": 9,
   "id": "c7f5de61",
   "metadata": {},
   "outputs": [],
   "source": [
    "class Employee(Person):    # 부모 클래스 Person으로부터 상속\n",
    "    def __init__(self, name, age, gender, salary, hire_date):\n",
    "        super().__init__(name,age,gender)    # 부모 객체 사용\n",
    "        self.salary = salary\n",
    "        self.hire_date = hire_date    # 속성값 추가\n",
    "        \n",
    "    def do_work(self):    # 새로운 메서드 추가\n",
    "        print(\"열심히 일을 한다.\")\n",
    "        \n",
    "    def about_me(self):    # 부모 클래스 함수 재정의\n",
    "        super().about_me()    #부모 클래스 함수 사용\n",
    "        print(\"제 급여는\", self.salary, \"원이고, 제 입사일은\", self.hire_date, \"입니다.\")"
   ]
  },
  {
   "cell_type": "markdown",
   "id": "147305c8",
   "metadata": {},
   "source": [
    "다형성"
   ]
  },
  {
   "cell_type": "code",
   "execution_count": 12,
   "id": "5a646db4",
   "metadata": {},
   "outputs": [
    {
     "name": "stdout",
     "output_type": "stream",
     "text": [
      "Missy: Meow!\n",
      "Mr.Mistoffeless: Meow!\n",
      "Lassie: Woof! Woof!\n"
     ]
    }
   ],
   "source": [
    "class Animal:\n",
    "    def __init__(self, name):\n",
    "        self.name = name\n",
    "    def talk(self):\n",
    "        raise NotImplementedError(\"Subclass must implement abstract method\")\n",
    "        \n",
    "class Cat(Animal):\n",
    "    def talk(self):\n",
    "        return 'Meow!'\n",
    "    \n",
    "class Dog(Animal):\n",
    "    def talk(self):\n",
    "        return 'Woof! Woof!'\n",
    "    \n",
    "animals = [Cat('Missy'),Cat('Mr.Mistoffeless'),Dog('Lassie')]\n",
    "\n",
    "for animal in animals:\n",
    "    print(animal.name + ': ' + animal.talk())"
   ]
  },
  {
   "cell_type": "code",
   "execution_count": null,
   "id": "81542360",
   "metadata": {},
   "outputs": [],
   "source": []
  }
 ],
 "metadata": {
  "kernelspec": {
   "display_name": "Python 3 (ipykernel)",
   "language": "python",
   "name": "python3"
  },
  "language_info": {
   "codemirror_mode": {
    "name": "ipython",
    "version": 3
   },
   "file_extension": ".py",
   "mimetype": "text/x-python",
   "name": "python",
   "nbconvert_exporter": "python",
   "pygments_lexer": "ipython3",
   "version": "3.9.13"
  }
 },
 "nbformat": 4,
 "nbformat_minor": 5
}
