{
 "cells": [
  {
   "cell_type": "code",
   "execution_count": 2,
   "id": "e9eb8ab1",
   "metadata": {},
   "outputs": [
    {
     "name": "stdout",
     "output_type": "stream",
     "text": [
      "<class 'str'>\n",
      "I have a dream a song to sing\n",
      "to help me cope with anything\n",
      "if you see the wonder of a fairy tale\n",
      "you can take the future even\n",
      "if you fail I believe in angels\n",
      "something good in everything\n",
      "\n"
     ]
    }
   ],
   "source": [
    "f = open(\"dream.txt\",\"r\")\n",
    "contents = f.read()\n",
    "print(type(contents))\n",
    "print(contents)\n",
    "f.close()"
   ]
  },
  {
   "cell_type": "code",
   "execution_count": 13,
   "id": "af8250aa",
   "metadata": {},
   "outputs": [
    {
     "name": "stdout",
     "output_type": "stream",
     "text": [
      "<class 'str'> I have a dream a song to sing\n",
      "to help me cope with anything\n",
      "if you see the wonder of a fairy tale\n",
      "you can take the future even\n",
      "if you fail I believe in angels\n",
      "something good in everything\n",
      "\n"
     ]
    }
   ],
   "source": [
    "#with문과 함께 사용하기\n",
    "with open(\"dream.txt\",\"r\") as my_file:\n",
    "    contents = my_file.read()\n",
    "    print(type(contents),contents)"
   ]
  },
  {
   "cell_type": "code",
   "execution_count": 14,
   "id": "0ea7d3b5",
   "metadata": {},
   "outputs": [
    {
     "name": "stdout",
     "output_type": "stream",
     "text": [
      "<class 'list'>\n",
      "['I have a dream a song to sing\\n', 'to help me cope with anything\\n', 'if you see the wonder of a fairy tale\\n', 'you can take the future even\\n', 'if you fail I believe in angels\\n', 'something good in everything\\n']\n",
      "end\n"
     ]
    }
   ],
   "source": [
    "with open(\"dream.txt\",\"r\") as myfile:\n",
    "    contents = myfile.readlines()\n",
    "    print(type(contents))\n",
    "    print(contents)\n",
    "print('end')"
   ]
  },
  {
   "cell_type": "code",
   "execution_count": 15,
   "id": "3d97a058",
   "metadata": {},
   "outputs": [
    {
     "name": "stdout",
     "output_type": "stream",
     "text": [
      "0===I have a dream a song to sing\n",
      "1===to help me cope with anything\n",
      "2===if you see the wonder of a fairy tale\n",
      "3===you can take the future even\n",
      "4===if you fail I believe in angels\n",
      "5===something good in everything\n"
     ]
    }
   ],
   "source": [
    "# readline()함수 : 실행할 때마다 차례대로 한 줄 씩 읽어오는 함수\n",
    "with open(\"dream.txt\",\"r\") as my_file:\n",
    "    i = 0\n",
    "    while 1:\n",
    "        line = my_file.readline()\n",
    "        if not line:\n",
    "            break\n",
    "        print(str(i)+\"===\"+line.replace(\"\\n\",\"\")) #한 줄씩 값 출력\n",
    "        i = i + 1"
   ]
  },
  {
   "cell_type": "code",
   "execution_count": 16,
   "id": "1617d5a9",
   "metadata": {},
   "outputs": [
    {
     "name": "stdout",
     "output_type": "stream",
     "text": [
      "0=== I have a dream a song to sing\n",
      "\n",
      "1=== to help me cope with anything\n",
      "\n",
      "2=== if you see the wonder of a fairy tale\n",
      "\n",
      "3=== you can take the future even\n",
      "\n",
      "4=== if you fail I believe in angels\n",
      "\n",
      "5=== something good in everything\n",
      "\n"
     ]
    }
   ],
   "source": [
    "# readline()함수 : 실행할 때마다 차례대로 한 줄 씩 읽어오는 함수\n",
    "with open(\"dream.txt\",\"r\") as my_file:\n",
    "    i = 0\n",
    "    while 1:\n",
    "        line = my_file.readline()\n",
    "        if not line:\n",
    "            break\n",
    "        print(str(i)+\"===\",line) #한 줄씩 값 출력\n",
    "        i = i + 1"
   ]
  },
  {
   "cell_type": "code",
   "execution_count": 17,
   "id": "cff78859",
   "metadata": {},
   "outputs": [
    {
     "name": "stdout",
     "output_type": "stream",
     "text": [
      "총 글자의 수: 188\n",
      "총 단어의 수: 35\n",
      "총 줄의 수: 7\n"
     ]
    }
   ],
   "source": [
    "#파일 안 텍스트의 통계 정보를 읽어 와야 할 때 split(), len()\n",
    "with open(\"dream.txt\",\"r\") as my_file:\n",
    "    contents = my_file.read()\n",
    "    word_list = contents.split(\" \")#빈칸 기준으로 단어를 분리 리스트\n",
    "    line_list = contents.split(\"\\n\")#한 줄씩 분리하여 리스트\n",
    "    \n",
    "print(\"총 글자의 수:\", len(contents))\n",
    "print(\"총 단어의 수:\", len(word_list))\n",
    "print(\"총 줄의 수:\", len(line_list))"
   ]
  },
  {
   "cell_type": "code",
   "execution_count": 20,
   "id": "d7a58588",
   "metadata": {},
   "outputs": [],
   "source": [
    "f = open(\"conut_log.txt\", 'w', encoding=\"utf8\")\n",
    "for i in range(1,11):\n",
    "    data = \"%d번째 줄이다.\\n\"% i\n",
    "    f.write(data)\n",
    "f.close()"
   ]
  },
  {
   "cell_type": "code",
   "execution_count": 21,
   "id": "9c7f156f",
   "metadata": {},
   "outputs": [],
   "source": [
    "with open(\"count_log.txt\", 'a',encoding=\"utf8\") as f:\n",
    "    for i in range(1, 11):\n",
    "        data = \"%d번째 줄이다.\\n\"% i\n",
    "    f.write(data)"
   ]
  },
  {
   "cell_type": "code",
   "execution_count": null,
   "id": "a6e3a05f",
   "metadata": {},
   "outputs": [],
   "source": []
  }
 ],
 "metadata": {
  "kernelspec": {
   "display_name": "Python 3 (ipykernel)",
   "language": "python",
   "name": "python3"
  },
  "language_info": {
   "codemirror_mode": {
    "name": "ipython",
    "version": 3
   },
   "file_extension": ".py",
   "mimetype": "text/x-python",
   "name": "python",
   "nbconvert_exporter": "python",
   "pygments_lexer": "ipython3",
   "version": "3.9.13"
  }
 },
 "nbformat": 4,
 "nbformat_minor": 5
}
