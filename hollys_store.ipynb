{
 "cells": [
  {
   "cell_type": "code",
   "execution_count": 4,
   "id": "cb5f8a0d",
   "metadata": {},
   "outputs": [
    {
     "name": "stdout",
     "output_type": "stream",
     "text": [
      "Hollys store crawling >>>>>>>>>>>>>>>\n"
     ]
    }
   ],
   "source": [
    "import urllib.request\n",
    "from bs4 import BeautifulSoup as bs\n",
    "import pandas as pd\n",
    "\n",
    "def hollys_store(result):\n",
    "    for page in range(1, 54):\n",
    "        Hollys_url = \"https://www.hollys.co.kr/store/korea/korStore2.do?pageNo=%d&sido=&gugun=&store=\"% page\n",
    "        \n",
    "        html = urllib.request.urlopen(Hollys_url)\n",
    "        soupHollys = bs(html, 'html.parser')\n",
    "        \n",
    "        tag_tbody = soupHollys.find(\"tbody\")\n",
    "        for store in tag_tbody.find_all('tr'):\n",
    "            store_td = store.find_all('td')\n",
    "            s_name = store_td[1].text\n",
    "            s_sido = store_td[0].string\n",
    "            s_address = store_td[3].string\n",
    "            s_phone = store_td[5].string\n",
    "            \n",
    "            result.append([s_name, s_sido, s_address, s_phone])\n",
    "            \n",
    "    return\n",
    "\n",
    "def main():\n",
    "    result = []\n",
    "    print(\"Hollys store crawling >>>>>>>>>>>>>>>\")\n",
    "    hollys_store(result)\n",
    "    \n",
    "    hollys_df = pd.DataFrame(result, columns=('store', 'si-di-gu', 'address', 'phone'))\n",
    "    hollys_df.to_csv('hollys.csv', encoding='cp949', mode='w',index=True)\n",
    "    \n",
    "if __name__ == '__main__':\n",
    "    main()"
   ]
  },
  {
   "cell_type": "code",
   "execution_count": null,
   "id": "a8324ad5",
   "metadata": {},
   "outputs": [],
   "source": []
  }
 ],
 "metadata": {
  "kernelspec": {
   "display_name": "Python 3 (ipykernel)",
   "language": "python",
   "name": "python3"
  },
  "language_info": {
   "codemirror_mode": {
    "name": "ipython",
    "version": 3
   },
   "file_extension": ".py",
   "mimetype": "text/x-python",
   "name": "python",
   "nbconvert_exporter": "python",
   "pygments_lexer": "ipython3",
   "version": "3.9.13"
  }
 },
 "nbformat": 4,
 "nbformat_minor": 5
}
