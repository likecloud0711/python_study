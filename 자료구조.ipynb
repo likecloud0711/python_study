{
 "cells": [
  {
   "cell_type": "code",
   "execution_count": 1,
   "id": "51d3aef5",
   "metadata": {},
   "outputs": [
    {
     "name": "stdout",
     "output_type": "stream",
     "text": [
      "[1, 2, 3, 4, 5, 10]\n",
      "[1, 2, 3, 4, 5, 10, 20]\n",
      "20\n",
      "[1, 2, 3, 4, 5, 10]\n"
     ]
    }
   ],
   "source": [
    "a = [1,2,3,4,5]\n",
    "a.append(10)\n",
    "print(a)\n",
    "\n",
    "a.append(20)\n",
    "print(a)\n",
    "\n",
    "print(a.pop())\n",
    "print(a)"
   ]
  },
  {
   "cell_type": "code",
   "execution_count": 6,
   "id": "6eac706c",
   "metadata": {},
   "outputs": [
    {
     "name": "stdout",
     "output_type": "stream",
     "text": [
      "Input a word: Seoul\n",
      "['S', 'e', 'o', 'u', 'l']\n",
      "['l', 'u', 'o', 'e', 'S']\n",
      "luoeS\n"
     ]
    }
   ],
   "source": [
    "word = input(\"Input a word: \")\n",
    "world_list = list(word) #문자열을 list로\n",
    "print(world_list)\n",
    "\n",
    "result = []\n",
    "for _ in range(len(world_list)):\n",
    "    result.append(world_list.pop())\n",
    "    \n",
    "print(result)\n",
    "print(word[::-1])"
   ]
  },
  {
   "cell_type": "code",
   "execution_count": 10,
   "id": "48a3cd9b",
   "metadata": {},
   "outputs": [
    {
     "name": "stdout",
     "output_type": "stream",
     "text": [
      "[0, 1, 2, 3, 4, 5, 6, 7, 8, 9]\n",
      "[10, 9, 8, 7, 6, 5, 4, 3, 2, 1]\n",
      "[5, 6, 7, 8, 9, 10, 11]\n",
      "[9, 8, 7, 6, 5, 4, 3, 2, 1, 0]\n"
     ]
    }
   ],
   "source": [
    "# range\n",
    "a1 = list(range(10))\n",
    "a2 = list(range(10,0,-1))\n",
    "a3 = list(range(5,12))\n",
    "a4 = list(reversed(range(10)))\n",
    "print(a1,a2,a3,a4, sep=\"\\n\")\n",
    "\n",
    "#str\n",
    "s1 = list(\"hello\")"
   ]
  },
  {
   "cell_type": "code",
   "execution_count": 11,
   "id": "defda088",
   "metadata": {},
   "outputs": [
    {
     "name": "stdout",
     "output_type": "stream",
     "text": [
      "True\n",
      "[0, 0, 99, 0, 0] [0, 0, 99, 0, 0]\n"
     ]
    }
   ],
   "source": [
    "a = [0,0,0,0,0]\n",
    "b = a\n",
    "\n",
    "print(a is b)\n",
    "b[2] = 99\n",
    "print(a,b)"
   ]
  },
  {
   "cell_type": "code",
   "execution_count": 12,
   "id": "3679877a",
   "metadata": {},
   "outputs": [
    {
     "name": "stdout",
     "output_type": "stream",
     "text": [
      "True\n",
      "False\n",
      "[0, 0, 0, 0, 0] [0, 0, 99, 0, 0]\n"
     ]
    }
   ],
   "source": [
    "a = [0,0,0,0,0]\n",
    "b = a.copy() #똑같은 데이터를 저장하고 있는 새로운 list객체가 생성됨\n",
    "\n",
    "print(a == b)\n",
    "print(a is b)\n",
    "b[2] = 99\n",
    "print(a,b)"
   ]
  },
  {
   "cell_type": "code",
   "execution_count": 13,
   "id": "1a1c4050",
   "metadata": {},
   "outputs": [
    {
     "name": "stdout",
     "output_type": "stream",
     "text": [
      "[1, 5, 6, 3, 7, 2]\n",
      "[1, 2, 3, 5, 6, 7]\n"
     ]
    }
   ],
   "source": [
    "a = [1,5,6,3,7,2]\n",
    "b = sorted(a)\n",
    "print(a)\n",
    "print(b)"
   ]
  },
  {
   "cell_type": "code",
   "execution_count": 14,
   "id": "93dfab1a",
   "metadata": {},
   "outputs": [
    {
     "name": "stdout",
     "output_type": "stream",
     "text": [
      "[1, 2, 3, 5, 6, 7]\n",
      "None\n"
     ]
    }
   ],
   "source": [
    "a = [1,5,6,3,7,2]\n",
    "b = a.sort()\n",
    "print(a)\n",
    "print(b)"
   ]
  },
  {
   "cell_type": "code",
   "execution_count": 15,
   "id": "73aa8aa7",
   "metadata": {},
   "outputs": [
    {
     "name": "stdout",
     "output_type": "stream",
     "text": [
      "(10, 20, 30) (10, 20, 30)\n"
     ]
    }
   ],
   "source": [
    "tt1 = (10,20,30)\n",
    "tt2 = 10,20,30\n",
    "print(tt1,tt2)"
   ]
  },
  {
   "cell_type": "code",
   "execution_count": 16,
   "id": "68485769",
   "metadata": {},
   "outputs": [
    {
     "name": "stdout",
     "output_type": "stream",
     "text": [
      "10 <class 'int'>\n",
      "10 <class 'int'>\n"
     ]
    }
   ],
   "source": [
    "tt3 = 10\n",
    "print(tt3, type(tt3))\n",
    "tt4 = (10)\n",
    "print(tt4, type(tt4))"
   ]
  },
  {
   "cell_type": "code",
   "execution_count": 17,
   "id": "306fb80d",
   "metadata": {},
   "outputs": [],
   "source": [
    "a = tuple()\n",
    "a1 = tuple(range(10))\n",
    "a2 = tuple([1,2,3,4]) # list -> tuple"
   ]
  },
  {
   "cell_type": "code",
   "execution_count": 18,
   "id": "2cc168db",
   "metadata": {},
   "outputs": [],
   "source": [
    "del(a1) #튜플 자체를 삭제"
   ]
  },
  {
   "cell_type": "code",
   "execution_count": 20,
   "id": "a74ee569",
   "metadata": {},
   "outputs": [
    {
     "name": "stdout",
     "output_type": "stream",
     "text": [
      "(10, 20, 30, 40)\n"
     ]
    }
   ],
   "source": [
    "myTuple=(10,20,30)\n",
    "#3번 인덱스에 40 추가 - tuple -> list -> tuple\n",
    "\n",
    "myList = list(myTuple)\n",
    "myList.append(40)\n",
    "myTuple = tuple(myList)\n",
    "print(myTuple)"
   ]
  },
  {
   "cell_type": "code",
   "execution_count": 22,
   "id": "192b7810",
   "metadata": {},
   "outputs": [
    {
     "name": "stdout",
     "output_type": "stream",
     "text": [
      "('A', 'B', 10, 20, 30, 40)\n",
      "(10, 20, 30, 10, 20, 30)\n"
     ]
    }
   ],
   "source": [
    "tt1 = ('A','B')\n",
    "print(tt1+myTuple)\n",
    "print(tt2*2)"
   ]
  },
  {
   "cell_type": "code",
   "execution_count": 23,
   "id": "890c4bad",
   "metadata": {},
   "outputs": [
    {
     "name": "stdout",
     "output_type": "stream",
     "text": [
      "{1, 2, 3, 4, 5}\n",
      "{1, 2, 3, 4, 5, 6}\n"
     ]
    }
   ],
   "source": [
    "s = set([5,1,2,3,1,2,4])\n",
    "print(s)\n",
    "s.add(6)\n",
    "s.add(1)\n",
    "print(s)"
   ]
  },
  {
   "cell_type": "code",
   "execution_count": 24,
   "id": "9cfe1eac",
   "metadata": {},
   "outputs": [
    {
     "data": {
      "text/plain": [
       "{1, 2}"
      ]
     },
     "execution_count": 24,
     "metadata": {},
     "output_type": "execute_result"
    }
   ],
   "source": [
    "s1 = set([1,2,3,4,5])\n",
    "s2 = set([3,4,5,6,7])\n",
    "\n",
    "s1.union(s2)    #합집합\n",
    "{1,2,3,4,5,6,7}\n",
    "s1|s2\n",
    "{1,2,3,4,5,6,7}\n",
    "s1.intersection(s2)    #교집합\n",
    "{3,4,5}\n",
    "s1&s2\n",
    "{3,4,5}\n",
    "s1.difference(s2)    #차집합\n",
    "{1,2}\n",
    "s1-s2\n",
    "{1,2}"
   ]
  },
  {
   "cell_type": "code",
   "execution_count": 7,
   "id": "86f49840",
   "metadata": {},
   "outputs": [
    {
     "name": "stdout",
     "output_type": "stream",
     "text": [
      "{'America': 1, 'Korea': 82, 'China': 86, 'Japan': 81}\n",
      "dict_keys(['America', 'Korea', 'China', 'Japan'])\n",
      "{'America': 1, 'Korea': 82, 'China': 86, 'Japan': 81, 'German': 49}\n",
      "dict_values([1, 82, 86, 81, 49])\n",
      "dict_items([('America', 1), ('Korea', 82), ('China', 86), ('Japan', 81), ('German', 49)])\n",
      "country :  America\n",
      "code :  1\n",
      "country :  Korea\n",
      "code :  82\n",
      "country :  China\n",
      "code :  86\n",
      "country :  Japan\n",
      "code :  81\n",
      "country :  German\n",
      "code :  49\n",
      "True\n",
      "True\n"
     ]
    }
   ],
   "source": [
    "country_code = {'America':1, 'Korea':82, 'China':86, 'Japan':81}\n",
    "print(country_code)\n",
    "print(country_code.keys())\n",
    "\n",
    "country_code['German'] = 49\n",
    "print(country_code)\n",
    "print(country_code.values())\n",
    "\n",
    "print(country_code.items())\n",
    "\n",
    "for k, v in country_code.items():\n",
    "    print('country : ', k)\n",
    "    print('code : ', v)\n",
    "    \n",
    "print(\"Korea\" in country_code.keys())\n",
    "print(82 in country_code.values())\n",
    "\n",
    "del(country_code['China'])\n",
    "print(country_code)"
   ]
  },
  {
   "cell_type": "code",
   "execution_count": null,
   "id": "5043deac",
   "metadata": {},
   "outputs": [],
   "source": []
  }
 ],
 "metadata": {
  "kernelspec": {
   "display_name": "Python 3 (ipykernel)",
   "language": "python",
   "name": "python3"
  },
  "language_info": {
   "codemirror_mode": {
    "name": "ipython",
    "version": 3
   },
   "file_extension": ".py",
   "mimetype": "text/x-python",
   "name": "python",
   "nbconvert_exporter": "python",
   "pygments_lexer": "ipython3",
   "version": "3.9.13"
  }
 },
 "nbformat": 4,
 "nbformat_minor": 5
}
