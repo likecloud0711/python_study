{
 "cells": [
  {
   "cell_type": "code",
   "execution_count": 1,
   "id": "f0c7e858",
   "metadata": {},
   "outputs": [
    {
     "name": "stdout",
     "output_type": "stream",
     "text": [
      "사각형의 넓이 :  200\n"
     ]
    }
   ],
   "source": [
    "def calculate_rectangle_area(x,y):\n",
    "    return x*y\n",
    "\n",
    "r_x = 10\n",
    "r_y = 20\n",
    "\n",
    "print(\"사각형의 넓이 : \", calculate_rectangle_area(r_x,r_y))"
   ]
  },
  {
   "cell_type": "code",
   "execution_count": 3,
   "id": "cf9c32e4",
   "metadata": {},
   "outputs": [
    {
     "name": "stdout",
     "output_type": "stream",
     "text": [
      "151\n"
     ]
    }
   ],
   "source": [
    "def f(x):\n",
    "    return 2 * x + 7\n",
    "def g(x):\n",
    "    return x ** 2\n",
    "x = 2\n",
    "print(f(x) + g(x) + f(g(x)) + g(f(x)))"
   ]
  },
  {
   "cell_type": "code",
   "execution_count": 4,
   "id": "19013333",
   "metadata": {},
   "outputs": [
    {
     "name": "stdout",
     "output_type": "stream",
     "text": [
      "35\n",
      "None\n",
      "35\n",
      "35\n",
      "35\n"
     ]
    }
   ],
   "source": [
    "def a_rectangle_area():    #매개변수 X, 반환값 X\n",
    "    print(5 * 7)\n",
    "def b_rectangle_area(x, y):#매개변수 O, 반환값 X\n",
    "    print(x * y)\n",
    "def c_rectangle_area():    #매개변수 X, 반환값 O\n",
    "    return(5 * 7)\n",
    "def d_rectangle_area(x, y):#매개변수 O, 반환값 O\n",
    "    return(x * y)\n",
    "\n",
    "result_a = a_rectangle_area()\n",
    "print(result_a)\n",
    "b_rectangle_area(5,7)\n",
    "print(c_rectangle_area())\n",
    "print(d_rectangle_area(5,7))"
   ]
  },
  {
   "cell_type": "code",
   "execution_count": 6,
   "id": "5c6e8472",
   "metadata": {},
   "outputs": [
    {
     "name": "stdout",
     "output_type": "stream",
     "text": [
      "9\n",
      "3\n"
     ]
    }
   ],
   "source": [
    "def f(x):\n",
    "    y = x\n",
    "    x = 5\n",
    "    return y*y\n",
    "\n",
    "x = 3\n",
    "print(f(x))\n",
    "print(x)"
   ]
  },
  {
   "cell_type": "code",
   "execution_count": 7,
   "id": "997a855c",
   "metadata": {},
   "outputs": [
    {
     "name": "stdout",
     "output_type": "stream",
     "text": [
      "[0, 1]\n"
     ]
    }
   ],
   "source": [
    "def spam(eggs):\n",
    "    eggs.append(1)    #기존 객체의 주솟값에 1[] 추가\n",
    "    eggs = [2,3]      #새로운 객체 생성(새로운 주소 값 할당)\n",
    "    \n",
    "ham = [0]\n",
    "spam(ham)\n",
    "print(ham)"
   ]
  },
  {
   "cell_type": "code",
   "execution_count": 9,
   "id": "37e41093",
   "metadata": {},
   "outputs": [
    {
     "name": "stdout",
     "output_type": "stream",
     "text": [
      "I love London!\n",
      "I love Paris!\n"
     ]
    }
   ],
   "source": [
    "def f():\n",
    "    s = \"I love London!\"\n",
    "    print(s)\n",
    "    \n",
    "s = \"I love Paris!\"\n",
    "f()\n",
    "print(s)"
   ]
  },
  {
   "cell_type": "code",
   "execution_count": 10,
   "id": "77b5182d",
   "metadata": {},
   "outputs": [
    {
     "name": "stdout",
     "output_type": "stream",
     "text": [
      "I love London!\n",
      "I love London!\n"
     ]
    }
   ],
   "source": [
    "def f():\n",
    "    global s\n",
    "    s = \"I love London!\"\n",
    "    print(s)\n",
    "    \n",
    "s = \"I love Paris!\"\n",
    "f()\n",
    "print(s)"
   ]
  },
  {
   "cell_type": "code",
   "execution_count": 11,
   "id": "91f87683",
   "metadata": {},
   "outputs": [
    {
     "name": "stdout",
     "output_type": "stream",
     "text": [
      "In Program - 1\n",
      "a: 5 b: 7 a+b: 12\n",
      "In Function\n",
      "a: 5 b: 7 a+b: 12 total: 12\n",
      "After Calculation\n",
      "Total: 0  Sum: 12\n"
     ]
    }
   ],
   "source": [
    "def calculate(x,y):\n",
    "    total = x+y\n",
    "    print(\"In Function\")\n",
    "    print(\"a:\", str(a), \"b:\", str(b), \"a+b:\", str(a+b), \"total:\", str(total))\n",
    "    return total\n",
    "\n",
    "a = 5    # a와 b는 전역 변수\n",
    "b = 7\n",
    "total = 0    # 전역 변수 total\n",
    "print(\"In Program - 1\")\n",
    "print(\"a:\", str(a), \"b:\", str(b), \"a+b:\", str(a+b))\n",
    "\n",
    "sum = calculate(a,b)\n",
    "print(\"After Calculation\")\n",
    "print(\"Total:\", str(total), \" Sum:\", str(sum))    #지역변수는 전역변수에 영향을 주지않는다."
   ]
  },
  {
   "cell_type": "code",
   "execution_count": 12,
   "id": "80d011a7",
   "metadata": {},
   "outputs": [
    {
     "name": "stdout",
     "output_type": "stream",
     "text": [
      "Input Number for Factorial Calculation: 5\n",
      "120\n"
     ]
    }
   ],
   "source": [
    "#factorial\n",
    "def factorial(n):\n",
    "    if n == 1:\n",
    "        return 1\n",
    "    else:\n",
    "        return n * factorial(n - 1)\n",
    "print(factorial(int(input(\"Input Number for Factorial Calculation: \"))))"
   ]
  },
  {
   "cell_type": "code",
   "execution_count": 15,
   "id": "e1889751",
   "metadata": {},
   "outputs": [
    {
     "name": "stdout",
     "output_type": "stream",
     "text": [
      "Hello TEAMLAB, My name is Sungchul\n",
      "Hello  TEAMLAB, My name is  Sungchul\n"
     ]
    }
   ],
   "source": [
    "#keyword\n",
    "def print_something(my_name, your_name):\n",
    "    print(\"Hello{0}, My name is{1}\".format(your_name, my_name))\n",
    "    \n",
    "print_something(\" Sungchul\",\" TEAMLAB\")\n",
    "print_something(your_name= \"  TEAMLAB\", my_name = \"  Sungchul\")"
   ]
  },
  {
   "cell_type": "code",
   "execution_count": 28,
   "id": "8734ce6a",
   "metadata": {},
   "outputs": [
    {
     "name": "stdout",
     "output_type": "stream",
     "text": [
      "15\n"
     ]
    }
   ],
   "source": [
    "#가변인수\n",
    "del sum\n",
    "def asterisk_test(a, b, *args):\n",
    "    return a + b + sum(args)\n",
    "\n",
    "print(asterisk_test(1, 2, 3, 4, 5))"
   ]
  },
  {
   "cell_type": "code",
   "execution_count": 24,
   "id": "d0b259d7",
   "metadata": {},
   "outputs": [
    {
     "name": "stdout",
     "output_type": "stream",
     "text": [
      "(3, 4, 5)\n",
      "None\n"
     ]
    }
   ],
   "source": [
    "#가변인수\n",
    "def asterisk_test(a, b, *args):\n",
    "    print(args)\n",
    "\n",
    "print(asterisk_test(1, 2, 3, 4, 5))"
   ]
  },
  {
   "cell_type": "code",
   "execution_count": 26,
   "id": "7400fe19",
   "metadata": {},
   "outputs": [
    {
     "name": "stdout",
     "output_type": "stream",
     "text": [
      "1 2 [3, 4, 5, 6, 7]\n"
     ]
    }
   ],
   "source": [
    "def asterisk_test2(*args):\n",
    "    x,y,*z = args\n",
    "    print(x,y,z)\n",
    "    \n",
    "asterisk_test2(1,2,3,4,5,6,7)"
   ]
  },
  {
   "cell_type": "code",
   "execution_count": 29,
   "id": "ce583d4e",
   "metadata": {},
   "outputs": [
    {
     "name": "stdout",
     "output_type": "stream",
     "text": [
      "42\n",
      "{'first': 3, 'second': 4, 'third': 5}\n"
     ]
    }
   ],
   "source": [
    "def kwargs_test(one, two, *args, **kwargs):\n",
    "    print(one + two + sum(args))\n",
    "    print(kwargs)\n",
    "    \n",
    "kwargs_test(3,4,5,6,7,8,9,first=3,second=4,third=5)"
   ]
  },
  {
   "cell_type": "code",
   "execution_count": null,
   "id": "80fd0b12",
   "metadata": {},
   "outputs": [],
   "source": []
  }
 ],
 "metadata": {
  "kernelspec": {
   "display_name": "Python 3 (ipykernel)",
   "language": "python",
   "name": "python3"
  },
  "language_info": {
   "codemirror_mode": {
    "name": "ipython",
    "version": 3
   },
   "file_extension": ".py",
   "mimetype": "text/x-python",
   "name": "python",
   "nbconvert_exporter": "python",
   "pygments_lexer": "ipython3",
   "version": "3.9.13"
  }
 },
 "nbformat": 4,
 "nbformat_minor": 5
}
