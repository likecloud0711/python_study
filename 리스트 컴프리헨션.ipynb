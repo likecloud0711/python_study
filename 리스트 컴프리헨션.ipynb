{
 "cells": [
  {
   "cell_type": "markdown",
   "id": "e637c1e2",
   "metadata": {},
   "source": [
    "#### 일반적인 반복문 + 리스트"
   ]
  },
  {
   "cell_type": "code",
   "execution_count": 1,
   "id": "60bf7660",
   "metadata": {},
   "outputs": [
    {
     "name": "stdout",
     "output_type": "stream",
     "text": [
      "[0, 1, 2, 3, 4, 5, 6, 7, 8, 9]\n"
     ]
    }
   ],
   "source": [
    "result = []\n",
    "for i in range(10):\n",
    "    result.append(i)\n",
    "    \n",
    "print(result)"
   ]
  },
  {
   "cell_type": "markdown",
   "id": "38b988da",
   "metadata": {},
   "source": [
    "#### 리스트 컴프리헨션"
   ]
  },
  {
   "cell_type": "code",
   "execution_count": 3,
   "id": "75a85779",
   "metadata": {
    "scrolled": true
   },
   "outputs": [
    {
     "name": "stdout",
     "output_type": "stream",
     "text": [
      "[0, 1, 2, 3, 4, 5, 6, 7, 8, 9]\n"
     ]
    }
   ],
   "source": [
    "result = [i for i in range(10)]\n",
    "# in range(10) : 숫자 생성(0 ~ 9)\n",
    "# for i : 숫자를 i에 저장\n",
    "# [i] : 리스트 생성 후 i값 저장\n",
    "print(result)"
   ]
  },
  {
   "cell_type": "code",
   "execution_count": 4,
   "id": "211245a8",
   "metadata": {},
   "outputs": [
    {
     "name": "stdout",
     "output_type": "stream",
     "text": [
      "[0, 1, 2, 3, 4]\n"
     ]
    }
   ],
   "source": [
    "result2 = list(i for i in range(5))\n",
    "print(result2)"
   ]
  },
  {
   "cell_type": "code",
   "execution_count": 5,
   "id": "39810abc",
   "metadata": {},
   "outputs": [
    {
     "name": "stdout",
     "output_type": "stream",
     "text": [
      "['a', 'a', 'a', 'a', 'a']\n"
     ]
    }
   ],
   "source": [
    "result3 = list(\"a\" for i in range(5))\n",
    "print(result3)"
   ]
  },
  {
   "cell_type": "code",
   "execution_count": 6,
   "id": "380dd537",
   "metadata": {},
   "outputs": [
    {
     "name": "stdout",
     "output_type": "stream",
     "text": [
      "[10, 11, 12, 13, 14]\n"
     ]
    }
   ],
   "source": [
    "result4 = list(i+10 for i in range(5))\n",
    "print(result4)"
   ]
  },
  {
   "cell_type": "markdown",
   "id": "878927f8",
   "metadata": {},
   "source": [
    "###### 리스트 컴프리헨션 : 필터링"
   ]
  },
  {
   "cell_type": "markdown",
   "id": "08dbc3ee",
   "metadata": {},
   "source": [
    "#### 일반적인 반복문 + 리스트"
   ]
  },
  {
   "cell_type": "code",
   "execution_count": 7,
   "id": "7b86bafb",
   "metadata": {},
   "outputs": [
    {
     "name": "stdout",
     "output_type": "stream",
     "text": [
      "[0, 2, 4, 6, 8]\n"
     ]
    }
   ],
   "source": [
    "result = []\n",
    "for i in range(10):\n",
    "    if i % 2 == 0:\n",
    "        result.append(i)\n",
    "        \n",
    "print(result)"
   ]
  },
  {
   "cell_type": "markdown",
   "id": "fc46e9e2",
   "metadata": {},
   "source": [
    "#### 리스트 컴프리헨션\n",
    "[식 for 변수 in 리스트 if 조건식]\n",
    "\n",
    "[식 if 조건 else 식 for 변수 in 리스트]"
   ]
  },
  {
   "cell_type": "code",
   "execution_count": 8,
   "id": "24698d42",
   "metadata": {},
   "outputs": [
    {
     "name": "stdout",
     "output_type": "stream",
     "text": [
      "[0, 2, 4, 6, 8]\n"
     ]
    }
   ],
   "source": [
    "result = [i for i in range(10) if i % 2 == 0]\n",
    "print(result)"
   ]
  },
  {
   "cell_type": "markdown",
   "id": "2b88d839",
   "metadata": {},
   "source": [
    "#### else문"
   ]
  },
  {
   "cell_type": "code",
   "execution_count": 10,
   "id": "b085632e",
   "metadata": {},
   "outputs": [
    {
     "name": "stdout",
     "output_type": "stream",
     "text": [
      "[0, '홀수', 2, '홀수', 4, '홀수', 6, '홀수', 8, '홀수']\n"
     ]
    }
   ],
   "source": [
    "result = [i if i % 2 == 0 else \"홀수\" for i in range(10)]\n",
    "print(result)"
   ]
  },
  {
   "cell_type": "code",
   "execution_count": 11,
   "id": "65411393",
   "metadata": {},
   "outputs": [
    {
     "name": "stdout",
     "output_type": "stream",
     "text": [
      "['짝수', 1, '짝수', 9, '짝수', 25, '짝수', 49, '짝수', 81]\n"
     ]
    }
   ],
   "source": [
    "result = [\"짝수\" if i % 2 == 0 else i**2 for i in range(10)]\n",
    "print(result)"
   ]
  },
  {
   "cell_type": "markdown",
   "id": "65490969",
   "metadata": {},
   "source": [
    "#### 중첩 반복문"
   ]
  },
  {
   "cell_type": "code",
   "execution_count": 12,
   "id": "e21f4043",
   "metadata": {},
   "outputs": [
    {
     "name": "stdout",
     "output_type": "stream",
     "text": [
      "['HW', 'Ho', 'Hr', 'Hl', 'Hd', 'eW', 'eo', 'er', 'el', 'ed', 'lW', 'lo', 'lr', 'll', 'ld', 'lW', 'lo', 'lr', 'll', 'ld', 'oW', 'oo', 'or', 'ol', 'od']\n"
     ]
    }
   ],
   "source": [
    "word_1 = \"Hello\"\n",
    "word_2 = \"World\"\n",
    "result = [i + j for i in word_1 for j in word_2]    #중첩 반복문\n",
    "print(result)"
   ]
  },
  {
   "cell_type": "code",
   "execution_count": 13,
   "id": "154d7e28",
   "metadata": {},
   "outputs": [
    {
     "name": "stdout",
     "output_type": "stream",
     "text": [
      "['AD', 'AE', 'BD', 'BE', 'BA', 'CD', 'CE', 'CA']\n"
     ]
    }
   ],
   "source": [
    "c1 = [\"A\",\"B\",\"C\"]\n",
    "c2 = [\"D\",\"E\",\"A\"]\n",
    "r = [i + j for i in c1 for j in c2 if not(i==j)]\n",
    "print(r)"
   ]
  },
  {
   "cell_type": "code",
   "execution_count": 14,
   "id": "3c0ec176",
   "metadata": {},
   "outputs": [
    {
     "name": "stdout",
     "output_type": "stream",
     "text": [
      "['AD', 'AE', 'X', 'BD', 'BE', 'BA', 'CD', 'CE', 'CA']\n"
     ]
    }
   ],
   "source": [
    "c1 = [\"A\",\"B\",\"C\"]\n",
    "c2 = [\"D\",\"E\",\"A\"]\n",
    "r = [i + j if not(i==j) else 'X' for i in c1 for j in c2]\n",
    "print(r)"
   ]
  },
  {
   "cell_type": "code",
   "execution_count": 15,
   "id": "20ad9ed6",
   "metadata": {},
   "outputs": [
    {
     "name": "stdout",
     "output_type": "stream",
     "text": [
      "\n",
      "*\n",
      "**\n",
      "***\n",
      "****\n",
      "*****\n",
      "******\n",
      "*******\n",
      "********\n",
      "*********\n"
     ]
    }
   ],
   "source": [
    "r = [print(\"*\"*i) for i in range(10)]"
   ]
  },
  {
   "cell_type": "markdown",
   "id": "45cb044f",
   "metadata": {},
   "source": [
    "#### 이차원 리스트"
   ]
  },
  {
   "cell_type": "code",
   "execution_count": 20,
   "id": "0b22fce5",
   "metadata": {},
   "outputs": [
    {
     "name": "stdout",
     "output_type": "stream",
     "text": [
      "[['AD', 'BD', 'CD'], ['AE', 'BE', 'CE'], ['AA', 'BA', 'CA']]\n"
     ]
    }
   ],
   "source": [
    "case_1 = [\"A\",\"B\",\"C\"]\n",
    "case_2 = [\"D\",\"E\",\"A\"]\n",
    "result = [[ i + j for i in case_1 ]for j in case_2]\n",
    "print(result)"
   ]
  },
  {
   "cell_type": "code",
   "execution_count": null,
   "id": "272deb45",
   "metadata": {},
   "outputs": [],
   "source": []
  }
 ],
 "metadata": {
  "kernelspec": {
   "display_name": "Python 3 (ipykernel)",
   "language": "python",
   "name": "python3"
  },
  "language_info": {
   "codemirror_mode": {
    "name": "ipython",
    "version": 3
   },
   "file_extension": ".py",
   "mimetype": "text/x-python",
   "name": "python",
   "nbconvert_exporter": "python",
   "pygments_lexer": "ipython3",
   "version": "3.9.13"
  }
 },
 "nbformat": 4,
 "nbformat_minor": 5
}
